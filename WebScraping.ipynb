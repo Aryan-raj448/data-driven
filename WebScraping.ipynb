{
 "cells": [
  {
   "cell_type": "markdown",
   "metadata": {},
   "source": [
    "# Introduction to Web Scraping"
   ]
  },
  {
   "cell_type": "markdown",
   "metadata": {},
   "source": [
    "This tutorial covers some basic concepts of web scraping. In all the tutorials before, the datasets that you had to work with were provided by us. Sometimes, it's easy to directly download these datasets from some websites. But some annoying websites do not make it that easy for you! For instance, in the first tutorial, the Moons_and_planets.csv file was parsed from this Wikipedia page https://en.wikipedia.org/wiki/List_of_natural_satellites where there is no option to directly download the dataset :(\n",
    "In such instances, we use web scraping. It is a technique for extracting data from websites and storing it in a file on your computer. <br>\n",
    "\n",
    "First, let's go through what makes up a web page. When we visit a webpage, our browser sends a request to the web server called a **GET**\n",
    "request(because we are requesting the server to send us files). The server then sends back files that tells our browser what the website looks like. These files are of different types : \n",
    "\n",
    "1. HTML :  Has the main contents of the page \n",
    "2. CSS : Used to \"style\" the webpage and make it look good\n",
    "3. JS : Javascript files make the webpage more interactive\n",
    "4. Images : Helps add images to the webpage\n",
    "\n",
    "For our purposes, we need only concern ourselves with HTML, but you are free to look up the others. "
   ]
  },
  {
   "cell_type": "markdown",
   "metadata": {},
   "source": [
    "## Basics of HTML"
   ]
  },
  {
   "cell_type": "markdown",
   "metadata": {},
   "source": [
    "HTML is not a programming language, it is a <i>markup language</i>, which means it tells the browser what the layout of the website looks like. It lets you do things like make a new heading, a new paragraph, make text bold, italicise text etc. HTML consists of elements called **tags** which basically gives the browser instructions like \"the following text is meant to be bold\" or \"the following text is another paragraph\". The most basic tag is the `<html>` tag. People who are already familiar with HTML can skip this section and move on to the actual web scraping part."
   ]
  },
  {
   "cell_type": "code",
   "execution_count": 1,
   "metadata": {},
   "outputs": [
    {
     "data": {
      "text/html": [
       "<html>\n",
       "\n",
       "</html>\n"
      ],
      "text/plain": [
       "<IPython.core.display.HTML object>"
      ]
     },
     "metadata": {},
     "output_type": "display_data"
    }
   ],
   "source": [
    "%%HTML\n",
    "<html>\n",
    "\n",
    "</html>"
   ]
  },
  {
   "cell_type": "markdown",
   "metadata": {},
   "source": [
    "This tells the browser that everything inside these two tags is HTML code. Ignore the first line, that is not part of an HTML file."
   ]
  },
  {
   "cell_type": "code",
   "execution_count": 2,
   "metadata": {},
   "outputs": [
    {
     "data": {
      "text/html": [
       "<!-- This is how we comment in HTML :D  -->\n"
      ],
      "text/plain": [
       "<IPython.core.display.HTML object>"
      ]
     },
     "metadata": {},
     "output_type": "display_data"
    }
   ],
   "source": [
    "%%HTML\n",
    "<!-- This is how we comment in HTML :D  -->"
   ]
  },
  {
   "cell_type": "markdown",
   "metadata": {},
   "source": [
    "Given below are some common HTML tags.\n",
    "<l>\n",
    "    <li>`<head>` tag : Contains information about the title of the page</li>\n",
    "    <li>`<body>` tag : Contains information about the contents of the web page</li>\n",
    "    <li>`<p>` tag : Starts a new paragraph </li>\n",
    "    <li>`<a>` tag : Used to insert links in the webpage. The `href` property of this tag determines where the link goes. </li> \n",
    "</l> \n",
    "Run the code cell to see how HTML formats the page using these tags!"
   ]
  },
  {
   "cell_type": "code",
   "execution_count": 5,
   "metadata": {},
   "outputs": [
    {
     "data": {
      "text/html": [
       "<html>   \n",
       "\n",
       "    <head>                                    \n",
       "        This is <i>really</i> neat!           <!-- i tag : italics -->\n",
       "    </head>\n",
       "    \n",
       "    <body>                                    \n",
       "    \n",
       "        <p>\n",
       "        <b>This is <i>really</i> neat!</b>\n",
       "        </p>                                  <!-- b tag : bold -->\n",
       "                \n",
       "        <p>        \n",
       "        <a href = \"https://www.tech-iitb.org/krittika/\">\n",
       "        Krittika, the Astronomy Club of IIT Bombay </a>  \n",
       "        </p>\n",
       "    </body>\n",
       "    \n",
       "</html>\n"
      ],
      "text/plain": [
       "<IPython.core.display.HTML object>"
      ]
     },
     "metadata": {},
     "output_type": "display_data"
    }
   ],
   "source": [
    "%%HTML  \n",
    "<html>   \n",
    "\n",
    "    <head>                                    \n",
    "        This is <i>really</i> neat!           <!-- i tag : italics -->\n",
    "    </head>\n",
    "    \n",
    "    <body>                                    \n",
    "    \n",
    "        <p>\n",
    "        <b>This is <i>really</i> neat!</b>\n",
    "        </p>                                  <!-- b tag : bold -->\n",
    "                \n",
    "        <p>        \n",
    "        <a href = \"https://www.tech-iitb.org/krittika/\">\n",
    "        Krittika, the Astronomy Club of IIT Bombay </a>  \n",
    "        </p>\n",
    "    </body>\n",
    "    \n",
    "</html>"
   ]
  },
  {
   "cell_type": "markdown",
   "metadata": {},
   "source": [
    "A tag is called a <b>child</b> tag when it is inside another tag. Similarly, the enclosing tag is called the <b>parent</b> tag. A tag is the <b>sibling</b> of another tag if it is enclosed inside the same parent tag. In the above example, the two p tags are the children of the body tag and are sibling tags, while the body tag is a parent tag for these two.<br>\n",
    "\n",
    "Some other very common HTML tags are `<div>`(helps in dividing the webpage into different areas), `<table>`(creates a table) and `<form>`(creates an input form). Refer to [this](https://developer.mozilla.org/en-US/docs/Web/HTML/Element) for a more detailed discussion on HTML tags.<br>\n",
    "\n",
    "One last important concept in HTML are the `class` and `id` properties. These are used to give HTML elements names, and they make it easier for us while web scraping. A single element can have multiple classes and a class can also be shared among multiple elements. However, an id is unique to an HTML element and cannot be used more than once in a single webpage. "
   ]
  },
  {
   "cell_type": "code",
   "execution_count": 6,
   "metadata": {},
   "outputs": [
    {
     "data": {
      "text/html": [
       "<html>   \n",
       "\n",
       "    <head>                                    \n",
       "        This is <i>really</i> neat!           \n",
       "    </head>\n",
       "    \n",
       "    <body>                                    \n",
       "    \n",
       "        <p class = \"neat\">                     <!-- This 'p' tag is part of 1 class-->\n",
       "        <b>This is <i>really</i> neat!</b>\n",
       "        </p>                                  \n",
       "                \n",
       "        <p class = \"neat very-neat\">            <!--This 'p' tag is part of 2 classes-->    \n",
       "        <a href = \"https://www.tech-iitb.org/krittika/\" id=\"very-very-neat\">\n",
       "        Krittika, the Astronomy Club of IIT Bombay </a>  \n",
       "        </p>\n",
       "    </body>\n",
       "    \n",
       "</html>\n"
      ],
      "text/plain": [
       "<IPython.core.display.HTML object>"
      ]
     },
     "metadata": {},
     "output_type": "display_data"
    }
   ],
   "source": [
    "%%HTML\n",
    "<html>   \n",
    "\n",
    "    <head>                                    \n",
    "        This is <i>really</i> neat!           \n",
    "    </head>\n",
    "    \n",
    "    <body>                                    \n",
    "    \n",
    "        <p class = \"neat\">                     <!-- This 'p' tag is part of 1 class-->\n",
    "        <b>This is <i>really</i> neat!</b>\n",
    "        </p>                                  \n",
    "                \n",
    "        <p class = \"neat very-neat\">            <!--This 'p' tag is part of 2 classes-->    \n",
    "        <a href = \"https://www.tech-iitb.org/krittika/\" id=\"very-very-neat\">\n",
    "        Krittika, the Astronomy Club of IIT Bombay </a>  \n",
    "        </p>\n",
    "    </body>\n",
    "    \n",
    "</html>"
   ]
  },
  {
   "cell_type": "markdown",
   "metadata": {},
   "source": [
    "As can be seen, adding classes and ids do not change the website's layout."
   ]
  },
  {
   "cell_type": "markdown",
   "metadata": {},
   "source": [
    "## Using the  requests Library"
   ]
  },
  {
   "cell_type": "markdown",
   "metadata": {},
   "source": [
    "To scrape a webpage, we first download the HTML contents of the page and the **requests** library in Python lets us do that. There are different types of requests that we can send to the webpage, but here we will be using the `GET` request. Let's scrape a very simple webpage we have created [here](https://fathimazarin.github.io/simple.html)."
   ]
  },
  {
   "cell_type": "code",
   "execution_count": 2,
   "metadata": {},
   "outputs": [
    {
     "data": {
      "text/plain": [
       "<Response [404]>"
      ]
     },
     "execution_count": 2,
     "metadata": {},
     "output_type": "execute_result"
    }
   ],
   "source": [
    "import requests\n",
    "page = requests.get(\"https://fathimazarin.github.io/simple.html\")\n",
    "page"
   ]
  },
  {
   "cell_type": "markdown",
   "metadata": {},
   "source": [
    "If you run the above code and get a response code of 200, it means that your page downloaded successfully, while codes starting with a 4 or a 5 indicates an error."
   ]
  },
  {
   "cell_type": "code",
   "execution_count": 3,
   "metadata": {},
   "outputs": [
    {
     "data": {
      "text/plain": [
       "b'<!DOCTYPE html>\\n<html>\\n  <head>\\n    <meta http-equiv=\"Content-type\" content=\"text/html; charset=utf-8\">\\n    <meta http-equiv=\"Content-Security-Policy\" content=\"default-src \\'none\\'; style-src \\'unsafe-inline\\'; img-src data:; connect-src \\'self\\'\">\\n    <title>Site not found &middot; GitHub Pages</title>\\n    <style type=\"text/css\" media=\"screen\">\\n      body {\\n        background-color: #f1f1f1;\\n        margin: 0;\\n        font-family: \"Helvetica Neue\", Helvetica, Arial, sans-serif;\\n      }\\n\\n      .container { margin: 50px auto 40px auto; width: 600px; text-align: center; }\\n\\n      a { color: #4183c4; text-decoration: none; }\\n      a:hover { text-decoration: underline; }\\n\\n      h1 { width: 800px; position:relative; left: -100px; letter-spacing: -1px; line-height: 60px; font-size: 60px; font-weight: 100; margin: 0px 0 50px 0; text-shadow: 0 1px 0 #fff; }\\n      p { color: rgba(0, 0, 0, 0.5); margin: 20px 0; line-height: 1.6; }\\n\\n      ul { list-style: none; margin: 25px 0; padding: 0; }\\n      li { display: table-cell; font-weight: bold; width: 1%; }\\n\\n      .logo { display: inline-block; margin-top: 35px; }\\n      .logo-img-2x { display: none; }\\n      @media\\n      only screen and (-webkit-min-device-pixel-ratio: 2),\\n      only screen and (   min--moz-device-pixel-ratio: 2),\\n      only screen and (     -o-min-device-pixel-ratio: 2/1),\\n      only screen and (        min-device-pixel-ratio: 2),\\n      only screen and (                min-resolution: 192dpi),\\n      only screen and (                min-resolution: 2dppx) {\\n        .logo-img-1x { display: none; }\\n        .logo-img-2x { display: inline-block; }\\n      }\\n\\n      #suggestions {\\n        margin-top: 35px;\\n        color: #ccc;\\n      }\\n      #suggestions a {\\n        color: #666666;\\n        font-weight: 200;\\n        font-size: 14px;\\n        margin: 0 10px;\\n      }\\n\\n    </style>\\n  </head>\\n  <body>\\n\\n    <div class=\"container\">\\n\\n      <h1>404</h1>\\n      <p><strong>There isn\\'t a GitHub Pages site here.</strong></p>\\n\\n      <p>\\n        If you\\'re trying to publish one,\\n        <a href=\"https://help.github.com/pages/\">read the full documentation</a>\\n        to learn how to set up <strong>GitHub Pages</strong>\\n        for your repository, organization, or user account.\\n      </p>\\n\\n      <div id=\"suggestions\">\\n        <a href=\"https://githubstatus.com\">GitHub Status</a> &mdash;\\n        <a href=\"https://twitter.com/githubstatus\">@githubstatus</a>\\n      </div>\\n\\n      <a href=\"/\" class=\"logo logo-img-1x\">\\n        <img width=\"32\" height=\"32\" title=\"\" alt=\"\" src=\"data:image/png;base64,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\">\\n      </a>\\n\\n      <a href=\"/\" class=\"logo logo-img-2x\">\\n        <img width=\"32\" height=\"32\" title=\"\" alt=\"\" src=\"data:image/png;base64,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\">\\n      </a>\\n    </div>\\n  </body>\\n</html>\\n'"
      ]
     },
     "execution_count": 3,
     "metadata": {},
     "output_type": "execute_result"
    }
   ],
   "source": [
    "page.content"
   ]
  },
  {
   "cell_type": "markdown",
   "metadata": {},
   "source": [
    "This command prints out the HTML code of the page. "
   ]
  },
  {
   "cell_type": "markdown",
   "metadata": {},
   "source": [
    "## Using the BeautifulSoup library"
   ]
  },
  {
   "cell_type": "markdown",
   "metadata": {},
   "source": [
    "BeautifulSoup is a Python library that lets us parse HTML and extract whatever text that we want from it. This code loads the BeautifulSoup library and creates an instance of the BeautifulSoup class(we will be discussing classes in a later tutorial). This code uses the HTML parser(used generally for HTML documents that aren't well-formed, our example in this case :P )"
   ]
  },
  {
   "cell_type": "code",
   "execution_count": 4,
   "metadata": {},
   "outputs": [],
   "source": [
    "from bs4 import BeautifulSoup\n",
    "soup = BeautifulSoup(page.content, 'html.parser')"
   ]
  },
  {
   "cell_type": "markdown",
   "metadata": {},
   "source": [
    "As you can see above, the HTML code was printed out in a very messy way when we used page.content . The following command can be used to format the code in a better way."
   ]
  },
  {
   "cell_type": "code",
   "execution_count": 5,
   "metadata": {},
   "outputs": [
    {
     "name": "stdout",
     "output_type": "stream",
     "text": [
      "<!DOCTYPE html>\n",
      "<html>\n",
      " <head>\n",
      "  <meta content=\"text/html; charset=utf-8\" http-equiv=\"Content-type\"/>\n",
      "  <meta content=\"default-src 'none'; style-src 'unsafe-inline'; img-src data:; connect-src 'self'\" http-equiv=\"Content-Security-Policy\"/>\n",
      "  <title>\n",
      "   Site not found · GitHub Pages\n",
      "  </title>\n",
      "  <style media=\"screen\" type=\"text/css\">\n",
      "   body {\n",
      "        background-color: #f1f1f1;\n",
      "        margin: 0;\n",
      "        font-family: \"Helvetica Neue\", Helvetica, Arial, sans-serif;\n",
      "      }\n",
      "\n",
      "      .container { margin: 50px auto 40px auto; width: 600px; text-align: center; }\n",
      "\n",
      "      a { color: #4183c4; text-decoration: none; }\n",
      "      a:hover { text-decoration: underline; }\n",
      "\n",
      "      h1 { width: 800px; position:relative; left: -100px; letter-spacing: -1px; line-height: 60px; font-size: 60px; font-weight: 100; margin: 0px 0 50px 0; text-shadow: 0 1px 0 #fff; }\n",
      "      p { color: rgba(0, 0, 0, 0.5); margin: 20px 0; line-height: 1.6; }\n",
      "\n",
      "      ul { list-style: none; margin: 25px 0; padding: 0; }\n",
      "      li { display: table-cell; font-weight: bold; width: 1%; }\n",
      "\n",
      "      .logo { display: inline-block; margin-top: 35px; }\n",
      "      .logo-img-2x { display: none; }\n",
      "      @media\n",
      "      only screen and (-webkit-min-device-pixel-ratio: 2),\n",
      "      only screen and (   min--moz-device-pixel-ratio: 2),\n",
      "      only screen and (     -o-min-device-pixel-ratio: 2/1),\n",
      "      only screen and (        min-device-pixel-ratio: 2),\n",
      "      only screen and (                min-resolution: 192dpi),\n",
      "      only screen and (                min-resolution: 2dppx) {\n",
      "        .logo-img-1x { display: none; }\n",
      "        .logo-img-2x { display: inline-block; }\n",
      "      }\n",
      "\n",
      "      #suggestions {\n",
      "        margin-top: 35px;\n",
      "        color: #ccc;\n",
      "      }\n",
      "      #suggestions a {\n",
      "        color: #666666;\n",
      "        font-weight: 200;\n",
      "        font-size: 14px;\n",
      "        margin: 0 10px;\n",
      "      }\n",
      "  </style>\n",
      " </head>\n",
      " <body>\n",
      "  <div class=\"container\">\n",
      "   <h1>\n",
      "    404\n",
      "   </h1>\n",
      "   <p>\n",
      "    <strong>\n",
      "     There isn't a GitHub Pages site here.\n",
      "    </strong>\n",
      "   </p>\n",
      "   <p>\n",
      "    If you're trying to publish one,\n",
      "    <a href=\"https://help.github.com/pages/\">\n",
      "     read the full documentation\n",
      "    </a>\n",
      "    to learn how to set up\n",
      "    <strong>\n",
      "     GitHub Pages\n",
      "    </strong>\n",
      "    for your repository, organization, or user account.\n",
      "   </p>\n",
      "   <div id=\"suggestions\">\n",
      "    <a href=\"https://githubstatus.com\">\n",
      "     GitHub Status\n",
      "    </a>\n",
      "    —\n",
      "    <a href=\"https://twitter.com/githubstatus\">\n",
      "     @githubstatus\n",
      "    </a>\n",
      "   </div>\n",
      "   <a class=\"logo logo-img-1x\" href=\"/\">\n",
      "    <img alt=\"\" height=\"32\" src=\"data:image/png;base64,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\" title=\"\" width=\"32\"/>\n",
      "   </a>\n",
      "   <a class=\"logo logo-img-2x\" href=\"/\">\n",
      "    <img alt=\"\" height=\"32\" src=\"data:image/png;base64,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\" title=\"\" width=\"32\"/>\n",
      "   </a>\n",
      "  </div>\n",
      " </body>\n",
      "</html>\n",
      "\n"
     ]
    }
   ],
   "source": [
    "print(soup.prettify())"
   ]
  },
  {
   "cell_type": "markdown",
   "metadata": {},
   "source": [
    "Now, the information that we would want to extract is most probably inside the body tag in a <i>p</i> tag(the paragraph tags) or inside a table tag etc. The BeautifulSoup library has functions that help you directly search for these tags in the HTML code."
   ]
  },
  {
   "cell_type": "code",
   "execution_count": 6,
   "metadata": {},
   "outputs": [
    {
     "data": {
      "text/plain": [
       "<p><strong>There isn't a GitHub Pages site here.</strong></p>"
      ]
     },
     "execution_count": 6,
     "metadata": {},
     "output_type": "execute_result"
    }
   ],
   "source": [
    "soup.find('p') #What datatype does it return?"
   ]
  },
  {
   "cell_type": "markdown",
   "metadata": {},
   "source": [
    "You might have realized that the HTML code given above has multiple <i>p</i> tags, yet it returned only the first one. The soup.find_all() function returns a list of all occurrences of that particular tag."
   ]
  },
  {
   "cell_type": "code",
   "execution_count": 7,
   "metadata": {},
   "outputs": [
    {
     "data": {
      "text/plain": [
       "[<p><strong>There isn't a GitHub Pages site here.</strong></p>,\n",
       " <p>\n",
       "         If you're trying to publish one,\n",
       "         <a href=\"https://help.github.com/pages/\">read the full documentation</a>\n",
       "         to learn how to set up <strong>GitHub Pages</strong>\n",
       "         for your repository, organization, or user account.\n",
       "       </p>]"
      ]
     },
     "execution_count": 7,
     "metadata": {},
     "output_type": "execute_result"
    }
   ],
   "source": [
    "soup.find_all('p') "
   ]
  },
  {
   "cell_type": "markdown",
   "metadata": {},
   "source": [
    "But this still returns HTML code with pesky HTML tags that you don't want in your parsed file. The get_text() function will help you out here. You cannot use the get_text() function on the list returned by find_all(). You will have to access each element and use the function."
   ]
  },
  {
   "cell_type": "code",
   "execution_count": 8,
   "metadata": {},
   "outputs": [
    {
     "data": {
      "text/plain": [
       "\"There isn't a GitHub Pages site here.\""
      ]
     },
     "execution_count": 8,
     "metadata": {},
     "output_type": "execute_result"
    }
   ],
   "source": [
    "soup.find_all('p')[0].get_text()"
   ]
  },
  {
   "cell_type": "code",
   "execution_count": 14,
   "metadata": {},
   "outputs": [
    {
     "data": {
      "text/plain": [
       "\"\\n        If you're trying to publish one,\\n        read the full documentation\\n        to learn how to set up GitHub Pages\\n        for your repository, organization, or user account.\\n      \""
      ]
     },
     "execution_count": 14,
     "metadata": {},
     "output_type": "execute_result"
    }
   ],
   "source": [
    "soup.find_all('p')[1].get_text()"
   ]
  },
  {
   "cell_type": "code",
   "execution_count": 15,
   "metadata": {},
   "outputs": [
    {
     "name": "stdout",
     "output_type": "stream",
     "text": [
      "\n",
      "        If you're trying to publish one,\n",
      "        read the full documentation\n",
      "        to learn how to set up GitHub Pages\n",
      "        for your repository, organization, or user account.\n",
      "      \n"
     ]
    }
   ],
   "source": [
    "print(soup.find_all('p')[1].get_text())     #Why do you think there is a difference in output ?"
   ]
  },
  {
   "cell_type": "code",
   "execution_count": 16,
   "metadata": {},
   "outputs": [
    {
     "data": {
      "text/plain": [
       "<p>\n",
       "        If you're trying to publish one,\n",
       "        <a href=\"https://help.github.com/pages/\">read the full documentation</a>\n",
       "        to learn how to set up <strong>GitHub Pages</strong>\n",
       "        for your repository, organization, or user account.\n",
       "      </p>"
      ]
     },
     "execution_count": 16,
     "metadata": {},
     "output_type": "execute_result"
    }
   ],
   "source": [
    "krittika=soup.find_all('p')[1]\n",
    "krittika"
   ]
  },
  {
   "cell_type": "code",
   "execution_count": 17,
   "metadata": {},
   "outputs": [
    {
     "data": {
      "text/plain": [
       "[<a href=\"https://help.github.com/pages/\">read the full documentation</a>]"
      ]
     },
     "execution_count": 17,
     "metadata": {},
     "output_type": "execute_result"
    }
   ],
   "source": [
    "krittika.find_all('a')  #The find_all() function can also be used to search for tags inside a parent tag"
   ]
  },
  {
   "cell_type": "code",
   "execution_count": 18,
   "metadata": {},
   "outputs": [
    {
     "data": {
      "text/plain": [
       "<a href=\"https://help.github.com/pages/\">read the full documentation</a>"
      ]
     },
     "execution_count": 18,
     "metadata": {},
     "output_type": "execute_result"
    }
   ],
   "source": [
    "krittika.find_all('a')[0]"
   ]
  },
  {
   "cell_type": "code",
   "execution_count": 19,
   "metadata": {},
   "outputs": [
    {
     "data": {
      "text/plain": [
       "'read the full documentation'"
      ]
     },
     "execution_count": 19,
     "metadata": {},
     "output_type": "execute_result"
    }
   ],
   "source": [
    "krittika.find_all('a')[0].get_text()"
   ]
  },
  {
   "cell_type": "markdown",
   "metadata": {},
   "source": [
    "You still would not want those \\n cluttering up your file."
   ]
  },
  {
   "cell_type": "code",
   "execution_count": 20,
   "metadata": {},
   "outputs": [
    {
     "data": {
      "text/plain": [
       "\"        If you're trying to publish one,        read the full documentation        to learn how to set up GitHub Pages        for your repository, organization, or user account.      \""
      ]
     },
     "execution_count": 20,
     "metadata": {},
     "output_type": "execute_result"
    }
   ],
   "source": [
    "soup.find_all('p')[1].get_text().replace('\\n','')  #What do you think this code does?"
   ]
  },
  {
   "cell_type": "markdown",
   "metadata": {},
   "source": [
    "## Searching by class and id\n",
    "Adding one argument to the find_all() function helps you search by class and id."
   ]
  },
  {
   "cell_type": "code",
   "execution_count": 21,
   "metadata": {},
   "outputs": [
    {
     "data": {
      "text/plain": [
       "[]"
      ]
     },
     "execution_count": 21,
     "metadata": {},
     "output_type": "execute_result"
    }
   ],
   "source": [
    "soup.find_all('p', attrs={\"class\":\"neat\"})"
   ]
  },
  {
   "cell_type": "code",
   "execution_count": 22,
   "metadata": {},
   "outputs": [
    {
     "data": {
      "text/plain": [
       "[]"
      ]
     },
     "execution_count": 22,
     "metadata": {},
     "output_type": "execute_result"
    }
   ],
   "source": [
    "soup.find_all('p',attrs={\"class\":\"very-neat\"})"
   ]
  },
  {
   "cell_type": "code",
   "execution_count": 23,
   "metadata": {},
   "outputs": [
    {
     "data": {
      "text/plain": [
       "[]"
      ]
     },
     "execution_count": 23,
     "metadata": {},
     "output_type": "execute_result"
    }
   ],
   "source": [
    "soup.find_all(id=\"very-very-neat\")"
   ]
  },
  {
   "cell_type": "markdown",
   "metadata": {},
   "source": [
    "## Moving on to actual webpages"
   ]
  },
  {
   "cell_type": "markdown",
   "metadata": {},
   "source": [
    "In the above example, we parsed a relatively simple file with few lines of code, while that is not the case for real life websites(Go to any random webpage on Google Chrome or Firefox and press Ctrl+u and check for yourself). It will be hard to find the exact location of the paragraph or the tag that you want in such a big code. In such scenarios, the concept of class and id that we discussed above becomes useful. Web scraping is all about finding the right tag to search for using the find() function. <br>\n",
    "\n",
    "Let us try scraping a much more longer webpage, say, a Wikipedia page [here](https://en.wikipedia.org/wiki/Lists_of_stars_by_constellation) to print the list of constellations. The constellations are listed as an unordered list, hence they can be found inside `<li></li>` tags(these tags are responsible for the bullets)."
   ]
  },
  {
   "cell_type": "code",
   "execution_count": 24,
   "metadata": {},
   "outputs": [],
   "source": [
    "page = requests.get(\"https://en.wikipedia.org/wiki/Lists_of_stars_by_constellation\")\n",
    "soup = BeautifulSoup(page.content, 'html.parser')"
   ]
  },
  {
   "cell_type": "code",
   "execution_count": 25,
   "metadata": {},
   "outputs": [],
   "source": [
    "a = soup.find_all('li')"
   ]
  },
  {
   "cell_type": "code",
   "execution_count": 26,
   "metadata": {},
   "outputs": [
    {
     "data": {
      "text/plain": [
       "[<li class=\"mw-list-item\" id=\"n-mainpage-description\"><a accesskey=\"z\" href=\"/wiki/Main_Page\" title=\"Visit the main page [z]\"><span>Main page</span></a></li>,\n",
       " <li class=\"mw-list-item\" id=\"n-contents\"><a href=\"/wiki/Wikipedia:Contents\" title=\"Guides to browsing Wikipedia\"><span>Contents</span></a></li>,\n",
       " <li class=\"mw-list-item\" id=\"n-currentevents\"><a href=\"/wiki/Portal:Current_events\" title=\"Articles related to current events\"><span>Current events</span></a></li>,\n",
       " <li class=\"mw-list-item\" id=\"n-randompage\"><a accesskey=\"x\" href=\"/wiki/Special:Random\" title=\"Visit a randomly selected article [x]\"><span>Random article</span></a></li>,\n",
       " <li class=\"mw-list-item\" id=\"n-aboutsite\"><a href=\"/wiki/Wikipedia:About\" title=\"Learn about Wikipedia and how it works\"><span>About Wikipedia</span></a></li>,\n",
       " <li class=\"mw-list-item\" id=\"n-contactpage\"><a href=\"//en.wikipedia.org/wiki/Wikipedia:Contact_us\" title=\"How to contact Wikipedia\"><span>Contact us</span></a></li>,\n",
       " <li class=\"mw-list-item\" id=\"n-help\"><a href=\"/wiki/Help:Contents\" title=\"Guidance on how to use and edit Wikipedia\"><span>Help</span></a></li>,\n",
       " <li class=\"mw-list-item\" id=\"n-introduction\"><a href=\"/wiki/Help:Introduction\" title=\"Learn how to edit Wikipedia\"><span>Learn to edit</span></a></li>,\n",
       " <li class=\"mw-list-item\" id=\"n-portal\"><a href=\"/wiki/Wikipedia:Community_portal\" title=\"The hub for editors\"><span>Community portal</span></a></li>,\n",
       " <li class=\"mw-list-item\" id=\"n-recentchanges\"><a accesskey=\"r\" href=\"/wiki/Special:RecentChanges\" title=\"A list of recent changes to Wikipedia [r]\"><span>Recent changes</span></a></li>,\n",
       " <li class=\"mw-list-item\" id=\"n-upload\"><a href=\"/wiki/Wikipedia:File_upload_wizard\" title=\"Add images or other media for use on Wikipedia\"><span>Upload file</span></a></li>,\n",
       " <li class=\"mw-list-item\" id=\"n-specialpages\"><a href=\"/wiki/Special:SpecialPages\"><span>Special pages</span></a></li>,\n",
       " <li class=\"user-links-collapsible-item mw-list-item user-links-collapsible-item\" id=\"pt-sitesupport-2\"><a class=\"\" data-mw=\"interface\" href=\"https://donate.wikimedia.org/?wmf_source=donate&amp;wmf_medium=sidebar&amp;wmf_campaign=en.wikipedia.org&amp;uselang=en\"><span>Donate</span></a>\n",
       " </li>,\n",
       " <li class=\"user-links-collapsible-item mw-list-item user-links-collapsible-item\" id=\"pt-createaccount-2\"><a class=\"\" data-mw=\"interface\" href=\"/w/index.php?title=Special:CreateAccount&amp;returnto=Lists+of+stars+by+constellation\" title=\"You are encouraged to create an account and log in; however, it is not mandatory\"><span>Create account</span></a>\n",
       " </li>,\n",
       " <li class=\"user-links-collapsible-item mw-list-item user-links-collapsible-item\" id=\"pt-login-2\"><a accesskey=\"o\" class=\"\" data-mw=\"interface\" href=\"/w/index.php?title=Special:UserLogin&amp;returnto=Lists+of+stars+by+constellation\" title=\"You're encouraged to log in; however, it's not mandatory. [o]\"><span>Log in</span></a>\n",
       " </li>,\n",
       " <li class=\"user-links-collapsible-item mw-list-item\" id=\"pt-sitesupport\"><a href=\"https://donate.wikimedia.org/?wmf_source=donate&amp;wmf_medium=sidebar&amp;wmf_campaign=en.wikipedia.org&amp;uselang=en\"><span>Donate</span></a></li>,\n",
       " <li class=\"user-links-collapsible-item mw-list-item\" id=\"pt-createaccount\"><a href=\"/w/index.php?title=Special:CreateAccount&amp;returnto=Lists+of+stars+by+constellation\" title=\"You are encouraged to create an account and log in; however, it is not mandatory\"><span class=\"vector-icon mw-ui-icon-userAdd mw-ui-icon-wikimedia-userAdd\"></span> <span>Create account</span></a></li>,\n",
       " <li class=\"user-links-collapsible-item mw-list-item\" id=\"pt-login\"><a accesskey=\"o\" href=\"/w/index.php?title=Special:UserLogin&amp;returnto=Lists+of+stars+by+constellation\" title=\"You're encouraged to log in; however, it's not mandatory. [o]\"><span class=\"vector-icon mw-ui-icon-logIn mw-ui-icon-wikimedia-logIn\"></span> <span>Log in</span></a></li>,\n",
       " <li class=\"mw-list-item\" id=\"pt-anoncontribs\"><a accesskey=\"y\" href=\"/wiki/Special:MyContributions\" title=\"A list of edits made from this IP address [y]\"><span>Contributions</span></a></li>,\n",
       " <li class=\"mw-list-item\" id=\"pt-anontalk\"><a accesskey=\"n\" href=\"/wiki/Special:MyTalk\" title=\"Discussion about edits from this IP address [n]\"><span>Talk</span></a></li>,\n",
       " <li class=\"vector-toc-list-item vector-toc-level-1\" id=\"toc-mw-content-text\">\n",
       " <a class=\"vector-toc-link\" href=\"#\">\n",
       " <div class=\"vector-toc-text\">(Top)</div>\n",
       " </a>\n",
       " </li>,\n",
       " <li class=\"vector-toc-list-item vector-toc-level-1 vector-toc-list-item-expanded\" id=\"toc-Lists_of_stars_by_constellation\">\n",
       " <a class=\"vector-toc-link\" href=\"#Lists_of_stars_by_constellation\">\n",
       " <div class=\"vector-toc-text\">\n",
       " <span class=\"vector-toc-numb\">1</span>\n",
       " <span>Lists of stars by constellation</span>\n",
       " </div>\n",
       " </a>\n",
       " <ul class=\"vector-toc-list\" id=\"toc-Lists_of_stars_by_constellation-sublist\">\n",
       " </ul>\n",
       " </li>,\n",
       " <li class=\"vector-toc-list-item vector-toc-level-1 vector-toc-list-item-expanded\" id=\"toc-Criteria_of_inclusion\">\n",
       " <a class=\"vector-toc-link\" href=\"#Criteria_of_inclusion\">\n",
       " <div class=\"vector-toc-text\">\n",
       " <span class=\"vector-toc-numb\">2</span>\n",
       " <span>Criteria of inclusion</span>\n",
       " </div>\n",
       " </a>\n",
       " <ul class=\"vector-toc-list\" id=\"toc-Criteria_of_inclusion-sublist\">\n",
       " </ul>\n",
       " </li>,\n",
       " <li class=\"vector-toc-list-item vector-toc-level-1 vector-toc-list-item-expanded\" id=\"toc-See_also\">\n",
       " <a class=\"vector-toc-link\" href=\"#See_also\">\n",
       " <div class=\"vector-toc-text\">\n",
       " <span class=\"vector-toc-numb\">3</span>\n",
       " <span>See also</span>\n",
       " </div>\n",
       " </a>\n",
       " <ul class=\"vector-toc-list\" id=\"toc-See_also-sublist\">\n",
       " </ul>\n",
       " </li>,\n",
       " <li class=\"vector-toc-list-item vector-toc-level-1 vector-toc-list-item-expanded\" id=\"toc-References\">\n",
       " <a class=\"vector-toc-link\" href=\"#References\">\n",
       " <div class=\"vector-toc-text\">\n",
       " <span class=\"vector-toc-numb\">4</span>\n",
       " <span>References</span>\n",
       " </div>\n",
       " </a>\n",
       " <ul class=\"vector-toc-list\" id=\"toc-References-sublist\">\n",
       " </ul>\n",
       " </li>,\n",
       " <li class=\"vector-toc-list-item vector-toc-level-1 vector-toc-list-item-expanded\" id=\"toc-External_links\">\n",
       " <a class=\"vector-toc-link\" href=\"#External_links\">\n",
       " <div class=\"vector-toc-text\">\n",
       " <span class=\"vector-toc-numb\">5</span>\n",
       " <span>External links</span>\n",
       " </div>\n",
       " </a>\n",
       " <ul class=\"vector-toc-list\" id=\"toc-External_links-sublist\">\n",
       " </ul>\n",
       " </li>,\n",
       " <li class=\"interlanguage-link interwiki-be mw-list-item\"><a class=\"interlanguage-link-target\" data-language-autonym=\"Беларуская\" data-language-local-name=\"Belarusian\" data-title=\"Спісы зорак паводле сузор’яў\" href=\"https://be.wikipedia.org/wiki/%D0%A1%D0%BF%D1%96%D1%81%D1%8B_%D0%B7%D0%BE%D1%80%D0%B0%D0%BA_%D0%BF%D0%B0%D0%B2%D0%BE%D0%B4%D0%BB%D0%B5_%D1%81%D1%83%D0%B7%D0%BE%D1%80%E2%80%99%D1%8F%D1%9E\" hreflang=\"be\" lang=\"be\" title=\"Спісы зорак паводле сузор’яў – Belarusian\"><span>Беларуская</span></a></li>,\n",
       " <li class=\"interlanguage-link interwiki-ca mw-list-item\"><a class=\"interlanguage-link-target\" data-language-autonym=\"Català\" data-language-local-name=\"Catalan\" data-title=\"Llista d'estrelles per constel·lació\" href=\"https://ca.wikipedia.org/wiki/Llista_d%27estrelles_per_constel%C2%B7laci%C3%B3\" hreflang=\"ca\" lang=\"ca\" title=\"Llista d'estrelles per constel·lació – Catalan\"><span>Català</span></a></li>,\n",
       " <li class=\"interlanguage-link interwiki-cs mw-list-item\"><a class=\"interlanguage-link-target\" data-language-autonym=\"Čeština\" data-language-local-name=\"Czech\" data-title=\"Seznamy hvězd podle souhvězdí\" href=\"https://cs.wikipedia.org/wiki/Seznamy_hv%C4%9Bzd_podle_souhv%C4%9Bzd%C3%AD\" hreflang=\"cs\" lang=\"cs\" title=\"Seznamy hvězd podle souhvězdí – Czech\"><span>Čeština</span></a></li>,\n",
       " <li class=\"interlanguage-link interwiki-el mw-list-item\"><a class=\"interlanguage-link-target\" data-language-autonym=\"Ελληνικά\" data-language-local-name=\"Greek\" data-title=\"Κατάλογος αστέρων ανά αστερισμό\" href=\"https://el.wikipedia.org/wiki/%CE%9A%CE%B1%CF%84%CE%AC%CE%BB%CE%BF%CE%B3%CE%BF%CF%82_%CE%B1%CF%83%CF%84%CE%AD%CF%81%CF%89%CE%BD_%CE%B1%CE%BD%CE%AC_%CE%B1%CF%83%CF%84%CE%B5%CF%81%CE%B9%CF%83%CE%BC%CF%8C\" hreflang=\"el\" lang=\"el\" title=\"Κατάλογος αστέρων ανά αστερισμό – Greek\"><span>Ελληνικά</span></a></li>,\n",
       " <li class=\"interlanguage-link interwiki-eu mw-list-item\"><a class=\"interlanguage-link-target\" data-language-autonym=\"Euskara\" data-language-local-name=\"Basque\" data-title=\"Zerrenda:Izarren zerrenda konstelazioka\" href=\"https://eu.wikipedia.org/wiki/Zerrenda:Izarren_zerrenda_konstelazioka\" hreflang=\"eu\" lang=\"eu\" title=\"Zerrenda:Izarren zerrenda konstelazioka – Basque\"><span>Euskara</span></a></li>,\n",
       " <li class=\"interlanguage-link interwiki-fa mw-list-item\"><a class=\"interlanguage-link-target\" data-language-autonym=\"فارسی\" data-language-local-name=\"Persian\" data-title=\"فهرست ستارگان بر پایه صورت فلکی\" href=\"https://fa.wikipedia.org/wiki/%D9%81%D9%87%D8%B1%D8%B3%D8%AA_%D8%B3%D8%AA%D8%A7%D8%B1%DA%AF%D8%A7%D9%86_%D8%A8%D8%B1_%D9%BE%D8%A7%DB%8C%D9%87_%D8%B5%D9%88%D8%B1%D8%AA_%D9%81%D9%84%DA%A9%DB%8C\" hreflang=\"fa\" lang=\"fa\" title=\"فهرست ستارگان بر پایه صورت فلکی – Persian\"><span>فارسی</span></a></li>,\n",
       " <li class=\"interlanguage-link interwiki-fr mw-list-item\"><a class=\"interlanguage-link-target\" data-language-autonym=\"Français\" data-language-local-name=\"French\" data-title=\"Liste d'étoiles par constellation\" href=\"https://fr.wikipedia.org/wiki/Liste_d%27%C3%A9toiles_par_constellation\" hreflang=\"fr\" lang=\"fr\" title=\"Liste d'étoiles par constellation – French\"><span>Français</span></a></li>,\n",
       " <li class=\"interlanguage-link interwiki-ko mw-list-item\"><a class=\"interlanguage-link-target\" data-language-autonym=\"한국어\" data-language-local-name=\"Korean\" data-title=\"별자리에 따라 분류한 항성 목록\" href=\"https://ko.wikipedia.org/wiki/%EB%B3%84%EC%9E%90%EB%A6%AC%EC%97%90_%EB%94%B0%EB%9D%BC_%EB%B6%84%EB%A5%98%ED%95%9C_%ED%95%AD%EC%84%B1_%EB%AA%A9%EB%A1%9D\" hreflang=\"ko\" lang=\"ko\" title=\"별자리에 따라 분류한 항성 목록 – Korean\"><span>한국어</span></a></li>,\n",
       " <li class=\"interlanguage-link interwiki-ig mw-list-item\"><a class=\"interlanguage-link-target\" data-language-autonym=\"Igbo\" data-language-local-name=\"Igbo\" data-title=\"Ndepụta nke kpakpando site na ìgwè kpakpando\" href=\"https://ig.wikipedia.org/wiki/Ndep%E1%BB%A5ta_nke_kpakpando_site_na_%C3%ACgw%C3%A8_kpakpando\" hreflang=\"ig\" lang=\"ig\" title=\"Ndepụta nke kpakpando site na ìgwè kpakpando – Igbo\"><span>Igbo</span></a></li>,\n",
       " <li class=\"interlanguage-link interwiki-id mw-list-item\"><a class=\"interlanguage-link-target\" data-language-autonym=\"Bahasa Indonesia\" data-language-local-name=\"Indonesian\" data-title=\"Daftar bintang menurut rasi bintang\" href=\"https://id.wikipedia.org/wiki/Daftar_bintang_menurut_rasi_bintang\" hreflang=\"id\" lang=\"id\" title=\"Daftar bintang menurut rasi bintang – Indonesian\"><span>Bahasa Indonesia</span></a></li>,\n",
       " <li class=\"interlanguage-link interwiki-jv mw-list-item\"><a class=\"interlanguage-link-target\" data-language-autonym=\"Jawa\" data-language-local-name=\"Javanese\" data-title=\"Pratélaning lintang miturut konstélasiné\" href=\"https://jv.wikipedia.org/wiki/Prat%C3%A9laning_lintang_miturut_konst%C3%A9lasin%C3%A9\" hreflang=\"jv\" lang=\"jv\" title=\"Pratélaning lintang miturut konstélasiné – Javanese\"><span>Jawa</span></a></li>,\n",
       " <li class=\"interlanguage-link interwiki-kk mw-list-item\"><a class=\"interlanguage-link-target\" data-language-autonym=\"Қазақша\" data-language-local-name=\"Kazakh\" data-title=\"Шоқжұлдыздар бойынша жұлдыздар тізімі\" href=\"https://kk.wikipedia.org/wiki/%D0%A8%D0%BE%D2%9B%D0%B6%D2%B1%D0%BB%D0%B4%D1%8B%D0%B7%D0%B4%D0%B0%D1%80_%D0%B1%D0%BE%D0%B9%D1%8B%D0%BD%D1%88%D0%B0_%D0%B6%D2%B1%D0%BB%D0%B4%D1%8B%D0%B7%D0%B4%D0%B0%D1%80_%D1%82%D1%96%D0%B7%D1%96%D0%BC%D1%96\" hreflang=\"kk\" lang=\"kk\" title=\"Шоқжұлдыздар бойынша жұлдыздар тізімі – Kazakh\"><span>Қазақша</span></a></li>,\n",
       " <li class=\"interlanguage-link interwiki-mk mw-list-item\"><a class=\"interlanguage-link-target\" data-language-autonym=\"Македонски\" data-language-local-name=\"Macedonian\" data-title=\"Списоци на ѕвезди по соѕвездија\" href=\"https://mk.wikipedia.org/wiki/%D0%A1%D0%BF%D0%B8%D1%81%D0%BE%D1%86%D0%B8_%D0%BD%D0%B0_%D1%95%D0%B2%D0%B5%D0%B7%D0%B4%D0%B8_%D0%BF%D0%BE_%D1%81%D0%BE%D1%95%D0%B2%D0%B5%D0%B7%D0%B4%D0%B8%D1%98%D0%B0\" hreflang=\"mk\" lang=\"mk\" title=\"Списоци на ѕвезди по соѕвездија – Macedonian\"><span>Македонски</span></a></li>,\n",
       " <li class=\"interlanguage-link interwiki-ms mw-list-item\"><a class=\"interlanguage-link-target\" data-language-autonym=\"Bahasa Melayu\" data-language-local-name=\"Malay\" data-title=\"Senarai bintang mengikut buruj\" href=\"https://ms.wikipedia.org/wiki/Senarai_bintang_mengikut_buruj\" hreflang=\"ms\" lang=\"ms\" title=\"Senarai bintang mengikut buruj – Malay\"><span>Bahasa Melayu</span></a></li>,\n",
       " <li class=\"interlanguage-link interwiki-ja mw-list-item\"><a class=\"interlanguage-link-target\" data-language-autonym=\"日本語\" data-language-local-name=\"Japanese\" data-title=\"星座別の恒星の一覧\" href=\"https://ja.wikipedia.org/wiki/%E6%98%9F%E5%BA%A7%E5%88%A5%E3%81%AE%E6%81%92%E6%98%9F%E3%81%AE%E4%B8%80%E8%A6%A7\" hreflang=\"ja\" lang=\"ja\" title=\"星座別の恒星の一覧 – Japanese\"><span>日本語</span></a></li>,\n",
       " <li class=\"interlanguage-link interwiki-om mw-list-item\"><a class=\"interlanguage-link-target\" data-language-autonym=\"Oromoo\" data-language-local-name=\"Oromo\" data-title=\"Tarree urjiiwwan Tuujaan\" href=\"https://om.wikipedia.org/wiki/Tarree_urjiiwwan_Tuujaan\" hreflang=\"om\" lang=\"om\" title=\"Tarree urjiiwwan Tuujaan – Oromo\"><span>Oromoo</span></a></li>,\n",
       " <li class=\"interlanguage-link interwiki-pl mw-list-item\"><a class=\"interlanguage-link-target\" data-language-autonym=\"Polski\" data-language-local-name=\"Polish\" data-title=\"Lista gwiazd w poszczególnych gwiazdozbiorach\" href=\"https://pl.wikipedia.org/wiki/Lista_gwiazd_w_poszczeg%C3%B3lnych_gwiazdozbiorach\" hreflang=\"pl\" lang=\"pl\" title=\"Lista gwiazd w poszczególnych gwiazdozbiorach – Polish\"><span>Polski</span></a></li>,\n",
       " <li class=\"interlanguage-link interwiki-pt mw-list-item\"><a class=\"interlanguage-link-target\" data-language-autonym=\"Português\" data-language-local-name=\"Portuguese\" data-title=\"Listas de estrelas por constelação\" href=\"https://pt.wikipedia.org/wiki/Listas_de_estrelas_por_constela%C3%A7%C3%A3o\" hreflang=\"pt\" lang=\"pt\" title=\"Listas de estrelas por constelação – Portuguese\"><span>Português</span></a></li>,\n",
       " <li class=\"interlanguage-link interwiki-sk mw-list-item\"><a class=\"interlanguage-link-target\" data-language-autonym=\"Slovenčina\" data-language-local-name=\"Slovak\" data-title=\"Zoznam hviezd podľa súhvezdia\" href=\"https://sk.wikipedia.org/wiki/Zoznam_hviezd_pod%C4%BEa_s%C3%BAhvezdia\" hreflang=\"sk\" lang=\"sk\" title=\"Zoznam hviezd podľa súhvezdia – Slovak\"><span>Slovenčina</span></a></li>,\n",
       " <li class=\"interlanguage-link interwiki-tr mw-list-item\"><a class=\"interlanguage-link-target\" data-language-autonym=\"Türkçe\" data-language-local-name=\"Turkish\" data-title=\"Takımyıldızına göre yıldızlar dizini\" href=\"https://tr.wikipedia.org/wiki/Tak%C4%B1my%C4%B1ld%C4%B1z%C4%B1na_g%C3%B6re_y%C4%B1ld%C4%B1zlar_dizini\" hreflang=\"tr\" lang=\"tr\" title=\"Takımyıldızına göre yıldızlar dizini – Turkish\"><span>Türkçe</span></a></li>,\n",
       " <li class=\"interlanguage-link interwiki-uk mw-list-item\"><a class=\"interlanguage-link-target\" data-language-autonym=\"Українська\" data-language-local-name=\"Ukrainian\" data-title=\"Список зір за сузір'ями\" href=\"https://uk.wikipedia.org/wiki/%D0%A1%D0%BF%D0%B8%D1%81%D0%BE%D0%BA_%D0%B7%D1%96%D1%80_%D0%B7%D0%B0_%D1%81%D1%83%D0%B7%D1%96%D1%80%27%D1%8F%D0%BC%D0%B8\" hreflang=\"uk\" lang=\"uk\" title=\"Список зір за сузір'ями – Ukrainian\"><span>Українська</span></a></li>,\n",
       " <li class=\"interlanguage-link interwiki-zh mw-list-item\"><a class=\"interlanguage-link-target\" data-language-autonym=\"中文\" data-language-local-name=\"Chinese\" data-title=\"星座恒星列表\" href=\"https://zh.wikipedia.org/wiki/%E6%98%9F%E5%BA%A7%E6%81%92%E6%98%9F%E5%88%97%E8%A1%A8\" hreflang=\"zh\" lang=\"zh\" title=\"星座恒星列表 – Chinese\"><span>中文</span></a></li>,\n",
       " <li class=\"selected vector-tab-noicon mw-list-item\" id=\"ca-nstab-main\"><a accesskey=\"c\" href=\"/wiki/Lists_of_stars_by_constellation\" title=\"View the content page [c]\"><span>Article</span></a></li>,\n",
       " <li class=\"vector-tab-noicon mw-list-item\" id=\"ca-talk\"><a accesskey=\"t\" href=\"/wiki/Talk:Lists_of_stars_by_constellation\" rel=\"discussion\" title=\"Discuss improvements to the content page [t]\"><span>Talk</span></a></li>,\n",
       " <li class=\"selected vector-tab-noicon mw-list-item\" id=\"ca-view\"><a href=\"/wiki/Lists_of_stars_by_constellation\"><span>Read</span></a></li>,\n",
       " <li class=\"vector-tab-noicon mw-list-item\" id=\"ca-edit\"><a accesskey=\"e\" href=\"/w/index.php?title=Lists_of_stars_by_constellation&amp;action=edit\" title=\"Edit this page [e]\"><span>Edit</span></a></li>,\n",
       " <li class=\"vector-tab-noicon mw-list-item\" id=\"ca-history\"><a accesskey=\"h\" href=\"/w/index.php?title=Lists_of_stars_by_constellation&amp;action=history\" title=\"Past revisions of this page [h]\"><span>View history</span></a></li>,\n",
       " <li class=\"selected vector-more-collapsible-item mw-list-item\" id=\"ca-more-view\"><a href=\"/wiki/Lists_of_stars_by_constellation\"><span>Read</span></a></li>,\n",
       " <li class=\"vector-more-collapsible-item mw-list-item\" id=\"ca-more-edit\"><a accesskey=\"e\" href=\"/w/index.php?title=Lists_of_stars_by_constellation&amp;action=edit\" title=\"Edit this page [e]\"><span>Edit</span></a></li>,\n",
       " <li class=\"vector-more-collapsible-item mw-list-item\" id=\"ca-more-history\"><a href=\"/w/index.php?title=Lists_of_stars_by_constellation&amp;action=history\"><span>View history</span></a></li>,\n",
       " <li class=\"mw-list-item\" id=\"t-whatlinkshere\"><a accesskey=\"j\" href=\"/wiki/Special:WhatLinksHere/Lists_of_stars_by_constellation\" title=\"List of all English Wikipedia pages containing links to this page [j]\"><span>What links here</span></a></li>,\n",
       " <li class=\"mw-list-item\" id=\"t-recentchangeslinked\"><a accesskey=\"k\" href=\"/wiki/Special:RecentChangesLinked/Lists_of_stars_by_constellation\" rel=\"nofollow\" title=\"Recent changes in pages linked from this page [k]\"><span>Related changes</span></a></li>,\n",
       " <li class=\"mw-list-item\" id=\"t-upload\"><a accesskey=\"u\" href=\"//en.wikipedia.org/wiki/Wikipedia:File_Upload_Wizard\" title=\"Upload files [u]\"><span>Upload file</span></a></li>,\n",
       " <li class=\"mw-list-item\" id=\"t-permalink\"><a href=\"/w/index.php?title=Lists_of_stars_by_constellation&amp;oldid=1303518546\" title=\"Permanent link to this revision of this page\"><span>Permanent link</span></a></li>,\n",
       " <li class=\"mw-list-item\" id=\"t-info\"><a href=\"/w/index.php?title=Lists_of_stars_by_constellation&amp;action=info\" title=\"More information about this page\"><span>Page information</span></a></li>,\n",
       " <li class=\"mw-list-item\" id=\"t-cite\"><a href=\"/w/index.php?title=Special:CiteThisPage&amp;page=Lists_of_stars_by_constellation&amp;id=1303518546&amp;wpFormIdentifier=titleform\" title=\"Information on how to cite this page\"><span>Cite this page</span></a></li>,\n",
       " <li class=\"mw-list-item\" id=\"t-urlshortener\"><a href=\"/w/index.php?title=Special:UrlShortener&amp;url=https%3A%2F%2Fen.wikipedia.org%2Fwiki%2FLists_of_stars_by_constellation\"><span>Get shortened URL</span></a></li>,\n",
       " <li class=\"mw-list-item\" id=\"t-urlshortener-qrcode\"><a href=\"/w/index.php?title=Special:QrCode&amp;url=https%3A%2F%2Fen.wikipedia.org%2Fwiki%2FLists_of_stars_by_constellation\"><span>Download QR code</span></a></li>,\n",
       " <li class=\"mw-list-item\" id=\"coll-download-as-rl\"><a href=\"/w/index.php?title=Special:DownloadAsPdf&amp;page=Lists_of_stars_by_constellation&amp;action=show-download-screen\" title=\"Download this page as a PDF file\"><span>Download as PDF</span></a></li>,\n",
       " <li class=\"mw-list-item\" id=\"t-print\"><a accesskey=\"p\" href=\"/w/index.php?title=Lists_of_stars_by_constellation&amp;printable=yes\" title=\"Printable version of this page [p]\"><span>Printable version</span></a></li>,\n",
       " <li class=\"wb-otherproject-link wb-otherproject-wikibase-dataitem mw-list-item\" id=\"t-wikibase\"><a accesskey=\"g\" href=\"https://www.wikidata.org/wiki/Special:EntityPage/Q1044701\" title=\"Structured data on this page hosted by Wikidata [g]\"><span>Wikidata item</span></a></li>,\n",
       " <li><a href=\"/wiki/List_of_stars_in_Andromeda\" title=\"List of stars in Andromeda\">Andromeda</a></li>,\n",
       " <li><a href=\"/wiki/List_of_stars_in_Antlia\" title=\"List of stars in Antlia\">Antlia</a></li>,\n",
       " <li><a href=\"/wiki/List_of_stars_in_Apus\" title=\"List of stars in Apus\">Apus</a></li>,\n",
       " <li><a href=\"/wiki/List_of_stars_in_Aquarius\" title=\"List of stars in Aquarius\">Aquarius</a></li>,\n",
       " <li><a href=\"/wiki/List_of_stars_in_Aquila\" title=\"List of stars in Aquila\">Aquila</a></li>,\n",
       " <li><a href=\"/wiki/List_of_stars_in_Ara\" title=\"List of stars in Ara\">Ara</a></li>,\n",
       " <li><a href=\"/wiki/List_of_stars_in_Aries\" title=\"List of stars in Aries\">Aries</a></li>,\n",
       " <li><a href=\"/wiki/List_of_stars_in_Auriga\" title=\"List of stars in Auriga\">Auriga</a></li>,\n",
       " <li><a href=\"/wiki/List_of_stars_in_Bo%C3%B6tes\" title=\"List of stars in Boötes\">Boötes</a></li>,\n",
       " <li><a href=\"/wiki/List_of_stars_in_Caelum\" title=\"List of stars in Caelum\">Caelum</a></li>,\n",
       " <li><a href=\"/wiki/List_of_stars_in_Camelopardalis\" title=\"List of stars in Camelopardalis\">Camelopardalis</a></li>,\n",
       " <li><a href=\"/wiki/List_of_stars_in_Cancer\" title=\"List of stars in Cancer\">Cancer</a></li>,\n",
       " <li><a href=\"/wiki/List_of_stars_in_Canes_Venatici\" title=\"List of stars in Canes Venatici\">Canes Venatici</a></li>,\n",
       " <li><a href=\"/wiki/List_of_stars_in_Canis_Major\" title=\"List of stars in Canis Major\">Canis Major</a></li>,\n",
       " <li><a href=\"/wiki/List_of_stars_in_Canis_Minor\" title=\"List of stars in Canis Minor\">Canis Minor</a></li>,\n",
       " <li><a href=\"/wiki/List_of_stars_in_Capricornus\" title=\"List of stars in Capricornus\">Capricornus</a></li>,\n",
       " <li><a href=\"/wiki/List_of_stars_in_Carina\" title=\"List of stars in Carina\">Carina</a></li>,\n",
       " <li><a href=\"/wiki/List_of_stars_in_Cassiopeia\" title=\"List of stars in Cassiopeia\">Cassiopeia</a></li>,\n",
       " <li><a href=\"/wiki/List_of_stars_in_Centaurus\" title=\"List of stars in Centaurus\">Centaurus</a></li>,\n",
       " <li><a href=\"/wiki/List_of_stars_in_Cepheus\" title=\"List of stars in Cepheus\">Cepheus</a></li>,\n",
       " <li><a href=\"/wiki/List_of_stars_in_Cetus\" title=\"List of stars in Cetus\">Cetus</a></li>,\n",
       " <li><a href=\"/wiki/List_of_stars_in_Chamaeleon\" title=\"List of stars in Chamaeleon\">Chamaeleon</a></li>,\n",
       " <li><a href=\"/wiki/List_of_stars_in_Circinus\" title=\"List of stars in Circinus\">Circinus</a></li>,\n",
       " <li><a href=\"/wiki/List_of_stars_in_Columba\" title=\"List of stars in Columba\">Columba</a></li>,\n",
       " <li><a href=\"/wiki/List_of_stars_in_Coma_Berenices\" title=\"List of stars in Coma Berenices\">Coma Berenices</a></li>,\n",
       " <li><a href=\"/wiki/List_of_stars_in_Corona_Australis\" title=\"List of stars in Corona Australis\">Corona Australis</a></li>,\n",
       " <li><a href=\"/wiki/List_of_stars_in_Corona_Borealis\" title=\"List of stars in Corona Borealis\">Corona Borealis</a></li>,\n",
       " <li><a href=\"/wiki/List_of_stars_in_Corvus\" title=\"List of stars in Corvus\">Corvus</a></li>,\n",
       " <li><a href=\"/wiki/List_of_stars_in_Crater\" title=\"List of stars in Crater\">Crater</a></li>,\n",
       " <li><a href=\"/wiki/List_of_stars_in_Crux\" title=\"List of stars in Crux\">Crux</a></li>,\n",
       " <li><a href=\"/wiki/List_of_stars_in_Cygnus\" title=\"List of stars in Cygnus\">Cygnus</a></li>,\n",
       " <li><a href=\"/wiki/List_of_stars_in_Delphinus\" title=\"List of stars in Delphinus\">Delphinus</a></li>,\n",
       " <li><a href=\"/wiki/List_of_stars_in_Dorado\" title=\"List of stars in Dorado\">Dorado</a></li>,\n",
       " <li><a href=\"/wiki/List_of_stars_in_Draco\" title=\"List of stars in Draco\">Draco</a></li>,\n",
       " <li><a href=\"/wiki/List_of_stars_in_Equuleus\" title=\"List of stars in Equuleus\">Equuleus</a></li>,\n",
       " <li><a href=\"/wiki/List_of_stars_in_Eridanus\" title=\"List of stars in Eridanus\">Eridanus</a></li>,\n",
       " <li><a href=\"/wiki/List_of_stars_in_Fornax\" title=\"List of stars in Fornax\">Fornax</a></li>,\n",
       " <li><a href=\"/wiki/List_of_stars_in_Gemini\" title=\"List of stars in Gemini\">Gemini</a></li>,\n",
       " <li><a href=\"/wiki/List_of_stars_in_Grus\" title=\"List of stars in Grus\">Grus</a></li>,\n",
       " <li><a href=\"/wiki/List_of_stars_in_Hercules\" title=\"List of stars in Hercules\">Hercules</a></li>,\n",
       " <li><a href=\"/wiki/List_of_stars_in_Horologium\" title=\"List of stars in Horologium\">Horologium</a></li>,\n",
       " <li><a href=\"/wiki/List_of_stars_in_Hydra\" title=\"List of stars in Hydra\">Hydra</a></li>,\n",
       " <li><a href=\"/wiki/List_of_stars_in_Hydrus\" title=\"List of stars in Hydrus\">Hydrus</a></li>,\n",
       " <li><a href=\"/wiki/List_of_stars_in_Indus\" title=\"List of stars in Indus\">Indus</a></li>,\n",
       " <li><a href=\"/wiki/List_of_stars_in_Lacerta\" title=\"List of stars in Lacerta\">Lacerta</a></li>,\n",
       " <li><a href=\"/wiki/List_of_stars_in_Leo\" title=\"List of stars in Leo\">Leo</a></li>,\n",
       " <li><a href=\"/wiki/List_of_stars_in_Leo_Minor\" title=\"List of stars in Leo Minor\">Leo Minor</a></li>,\n",
       " <li><a href=\"/wiki/List_of_stars_in_Lepus\" title=\"List of stars in Lepus\">Lepus</a></li>,\n",
       " <li><a href=\"/wiki/List_of_stars_in_Libra\" title=\"List of stars in Libra\">Libra</a></li>,\n",
       " <li><a href=\"/wiki/List_of_stars_in_Lupus\" title=\"List of stars in Lupus\">Lupus</a></li>,\n",
       " <li><a href=\"/wiki/List_of_stars_in_Lynx\" title=\"List of stars in Lynx\">Lynx</a></li>,\n",
       " <li><a href=\"/wiki/List_of_stars_in_Lyra\" title=\"List of stars in Lyra\">Lyra</a></li>,\n",
       " <li><a href=\"/wiki/List_of_stars_in_Mensa\" title=\"List of stars in Mensa\">Mensa</a></li>,\n",
       " <li><a href=\"/wiki/List_of_stars_in_Microscopium\" title=\"List of stars in Microscopium\">Microscopium</a></li>,\n",
       " <li><a href=\"/wiki/List_of_stars_in_Monoceros\" title=\"List of stars in Monoceros\">Monoceros</a></li>,\n",
       " <li><a href=\"/wiki/List_of_stars_in_Musca\" title=\"List of stars in Musca\">Musca</a></li>,\n",
       " <li><a href=\"/wiki/List_of_stars_in_Norma\" title=\"List of stars in Norma\">Norma</a></li>,\n",
       " <li><a href=\"/wiki/List_of_stars_in_Octans\" title=\"List of stars in Octans\">Octans</a></li>,\n",
       " <li><a href=\"/wiki/List_of_stars_in_Ophiuchus\" title=\"List of stars in Ophiuchus\">Ophiuchus</a></li>,\n",
       " <li><a href=\"/wiki/List_of_stars_in_Orion\" title=\"List of stars in Orion\">Orion</a></li>,\n",
       " <li><a href=\"/wiki/List_of_stars_in_Pavo\" title=\"List of stars in Pavo\">Pavo</a></li>,\n",
       " <li><a href=\"/wiki/List_of_stars_in_Pegasus\" title=\"List of stars in Pegasus\">Pegasus</a></li>,\n",
       " <li><a href=\"/wiki/List_of_stars_in_Perseus\" title=\"List of stars in Perseus\">Perseus</a></li>,\n",
       " <li><a href=\"/wiki/List_of_stars_in_Phoenix\" title=\"List of stars in Phoenix\">Phoenix</a></li>,\n",
       " <li><a href=\"/wiki/List_of_stars_in_Pictor\" title=\"List of stars in Pictor\">Pictor</a></li>,\n",
       " <li><a href=\"/wiki/List_of_stars_in_Pisces\" title=\"List of stars in Pisces\">Pisces</a></li>,\n",
       " <li><a href=\"/wiki/List_of_stars_in_Piscis_Austrinus\" title=\"List of stars in Piscis Austrinus\">Piscis Austrinus</a></li>,\n",
       " <li><a href=\"/wiki/List_of_stars_in_Puppis\" title=\"List of stars in Puppis\">Puppis</a></li>,\n",
       " <li><a href=\"/wiki/List_of_stars_in_Pyxis\" title=\"List of stars in Pyxis\">Pyxis</a></li>,\n",
       " <li><a href=\"/wiki/List_of_stars_in_Reticulum\" title=\"List of stars in Reticulum\">Reticulum</a></li>,\n",
       " <li><a href=\"/wiki/List_of_stars_in_Sagitta\" title=\"List of stars in Sagitta\">Sagitta</a></li>,\n",
       " <li><a href=\"/wiki/List_of_stars_in_Sagittarius\" title=\"List of stars in Sagittarius\">Sagittarius</a></li>,\n",
       " <li><a href=\"/wiki/List_of_stars_in_Scorpius\" title=\"List of stars in Scorpius\">Scorpius</a></li>,\n",
       " <li><a href=\"/wiki/List_of_stars_in_Sculptor\" title=\"List of stars in Sculptor\">Sculptor</a></li>,\n",
       " <li><a href=\"/wiki/List_of_stars_in_Scutum\" title=\"List of stars in Scutum\">Scutum</a></li>,\n",
       " <li><a href=\"/wiki/List_of_stars_in_Serpens\" title=\"List of stars in Serpens\">Serpens</a></li>,\n",
       " <li><a href=\"/wiki/List_of_stars_in_Sextans\" title=\"List of stars in Sextans\">Sextans</a></li>,\n",
       " <li><a href=\"/wiki/List_of_stars_in_Taurus\" title=\"List of stars in Taurus\">Taurus</a></li>,\n",
       " <li><a href=\"/wiki/List_of_stars_in_Telescopium\" title=\"List of stars in Telescopium\">Telescopium</a></li>,\n",
       " <li><a href=\"/wiki/List_of_stars_in_Triangulum\" title=\"List of stars in Triangulum\">Triangulum</a></li>,\n",
       " <li><a href=\"/wiki/List_of_stars_in_Triangulum_Australe\" title=\"List of stars in Triangulum Australe\">Triangulum Australe</a></li>,\n",
       " <li><a href=\"/wiki/List_of_stars_in_Tucana\" title=\"List of stars in Tucana\">Tucana</a></li>,\n",
       " <li><a href=\"/wiki/List_of_stars_in_Ursa_Major\" title=\"List of stars in Ursa Major\">Ursa Major</a></li>,\n",
       " <li><a href=\"/wiki/List_of_stars_in_Ursa_Minor\" title=\"List of stars in Ursa Minor\">Ursa Minor</a></li>,\n",
       " <li><a href=\"/wiki/List_of_stars_in_Vela\" title=\"List of stars in Vela\">Vela</a></li>,\n",
       " <li><a href=\"/wiki/List_of_stars_in_Virgo\" title=\"List of stars in Virgo\">Virgo</a></li>,\n",
       " <li><a href=\"/wiki/List_of_stars_in_Volans\" title=\"List of stars in Volans\">Volans</a></li>,\n",
       " <li><a href=\"/wiki/List_of_stars_in_Vulpecula\" title=\"List of stars in Vulpecula\">Vulpecula</a> </li>,\n",
       " <li>Stars named with a <a href=\"/wiki/Bayer_designation\" title=\"Bayer designation\">Bayer</a>, <a href=\"/wiki/Flamsteed_designation\" title=\"Flamsteed designation\">Flamsteed</a>, <a href=\"/wiki/Bright_Star_Catalogue\" title=\"Bright Star Catalogue\">HR</a>, or <a href=\"/wiki/Henry_Draper_Catalogue\" title=\"Henry Draper Catalogue\">Draper</a> (not from the supplements) designation.</li>,\n",
       " <li>Stellar extremes or otherwise noteworthy stars.</li>,\n",
       " <li>Notable variable stars (prototypes, rare or otherwise important).</li>,\n",
       " <li>Nearest stars (&lt;20 ly).</li>,\n",
       " <li>Stars with planets.</li>,\n",
       " <li>Notable neutron stars, black holes, and other exotic stellar objects/remnants.</li>,\n",
       " <li class=\"portalbox-entry\"><span class=\"portalbox-image\"><span class=\"noviewer\" typeof=\"mw:File\"><a class=\"mw-file-description\" href=\"/wiki/File:He1523a.jpg\"><img alt=\"icon\" class=\"mw-file-element\" data-file-height=\"207\" data-file-width=\"180\" decoding=\"async\" height=\"28\" src=\"//upload.wikimedia.org/wikipedia/commons/thumb/5/5f/He1523a.jpg/40px-He1523a.jpg\" srcset=\"//upload.wikimedia.org/wikipedia/commons/thumb/5/5f/He1523a.jpg/60px-He1523a.jpg 2x\" width=\"24\"/></a></span></span><span class=\"portalbox-link\"><a class=\"mw-redirect\" href=\"/wiki/Portal:Star\" title=\"Portal:Star\">Star portal</a></span></li>,\n",
       " <li><a href=\"/wiki/Lists_of_astronomical_objects\" title=\"Lists of astronomical objects\">Lists of astronomical objects</a></li>,\n",
       " <li><a href=\"/wiki/Lists_of_constellations\" title=\"Lists of constellations\">Lists of constellations</a></li>,\n",
       " <li><a href=\"/wiki/Lists_of_stars\" title=\"Lists of stars\">Lists of stars</a></li>,\n",
       " <li><a href=\"/wiki/Lists_of_star_names\" title=\"Lists of star names\">Lists of star names</a></li>,\n",
       " <li><a href=\"/wiki/List_of_proper_names_of_stars\" title=\"List of proper names of stars\">List of proper names of stars</a> (IAU-accepted names)</li>,\n",
       " <li id=\"cite_note-jrasc92-1\"><span class=\"mw-cite-backlink\"><b><a href=\"#cite_ref-jrasc92_1-0\">^</a></b></span> <span class=\"reference-text\"><style data-mw-deduplicate=\"TemplateStyles:r1238218222\">.mw-parser-output cite.citation{font-style:inherit;word-wrap:break-word}.mw-parser-output .citation q{quotes:\"\\\"\"\"\\\"\"\"'\"\"'\"}.mw-parser-output .citation:target{background-color:rgba(0,127,255,0.133)}.mw-parser-output .id-lock-free.id-lock-free a{background:url(\"//upload.wikimedia.org/wikipedia/commons/6/65/Lock-green.svg\")right 0.1em center/9px no-repeat}.mw-parser-output .id-lock-limited.id-lock-limited a,.mw-parser-output .id-lock-registration.id-lock-registration a{background:url(\"//upload.wikimedia.org/wikipedia/commons/d/d6/Lock-gray-alt-2.svg\")right 0.1em center/9px no-repeat}.mw-parser-output .id-lock-subscription.id-lock-subscription a{background:url(\"//upload.wikimedia.org/wikipedia/commons/a/aa/Lock-red-alt-2.svg\")right 0.1em center/9px no-repeat}.mw-parser-output .cs1-ws-icon a{background:url(\"//upload.wikimedia.org/wikipedia/commons/4/4c/Wikisource-logo.svg\")right 0.1em center/12px no-repeat}body:not(.skin-timeless):not(.skin-minerva) .mw-parser-output .id-lock-free a,body:not(.skin-timeless):not(.skin-minerva) .mw-parser-output .id-lock-limited a,body:not(.skin-timeless):not(.skin-minerva) .mw-parser-output .id-lock-registration a,body:not(.skin-timeless):not(.skin-minerva) .mw-parser-output .id-lock-subscription a,body:not(.skin-timeless):not(.skin-minerva) .mw-parser-output .cs1-ws-icon a{background-size:contain;padding:0 1em 0 0}.mw-parser-output .cs1-code{color:inherit;background:inherit;border:none;padding:inherit}.mw-parser-output .cs1-hidden-error{display:none;color:var(--color-error,#d33)}.mw-parser-output .cs1-visible-error{color:var(--color-error,#d33)}.mw-parser-output .cs1-maint{display:none;color:#085;margin-left:0.3em}.mw-parser-output .cs1-kern-left{padding-left:0.2em}.mw-parser-output .cs1-kern-right{padding-right:0.2em}.mw-parser-output .citation .mw-selflink{font-weight:inherit}@media screen{.mw-parser-output .cs1-format{font-size:95%}html.skin-theme-clientpref-night .mw-parser-output .cs1-maint{color:#18911f}}@media screen and (prefers-color-scheme:dark){html.skin-theme-clientpref-os .mw-parser-output .cs1-maint{color:#18911f}}</style><cite class=\"citation journal cs1\" id=\"CITEREFHirshfeldSinnottOchsenbeinLemay1992\">Hirshfeld, Alan; Sinnott, Roger W.; Ochsenbein, François; Lemay, D. (1992). \"Book-Review – Sky Catalogue 2000.0 – V.1 – Stars to Magnitude 8.0 ED.2\". <i>Journal of the Royal Astronomical Society of Canada</i>. <b>86</b>: 221. <a class=\"mw-redirect\" href=\"/wiki/Bibcode_(identifier)\" title=\"Bibcode (identifier)\">Bibcode</a>:<a class=\"external text\" href=\"https://ui.adsabs.harvard.edu/abs/1992JRASC..86..221L\" rel=\"nofollow\">1992JRASC..86..221L</a>.</cite><span class=\"Z3988\" title=\"ctx_ver=Z39.88-2004&amp;rft_val_fmt=info%3Aofi%2Ffmt%3Akev%3Amtx%3Ajournal&amp;rft.genre=article&amp;rft.jtitle=Journal+of+the+Royal+Astronomical+Society+of+Canada&amp;rft.atitle=Book-Review+%E2%80%93+Sky+Catalogue+2000.0+%E2%80%93+V.1+%E2%80%93+Stars+to+Magnitude+8.0+ED.2&amp;rft.volume=86&amp;rft.pages=221&amp;rft.date=1992&amp;rft_id=info%3Abibcode%2F1992JRASC..86..221L&amp;rft.aulast=Hirshfeld&amp;rft.aufirst=Alan&amp;rft.au=Sinnott%2C+Roger+W.&amp;rft.au=Ochsenbein%2C+Fran%C3%A7ois&amp;rft.au=Lemay%2C+D.&amp;rfr_id=info%3Asid%2Fen.wikipedia.org%3ALists+of+stars+by+constellation\"></span></span>\n",
       " </li>,\n",
       " <li><i>The Astronomical Almanac</i> (2000).</li>,\n",
       " <li>Roy L. Bishop, ed., <i>The Observer's Almanac 1991</i>, The Royal Astronomical Society of Canada.</li>,\n",
       " <li><i>Burnham's Celestial Handbook: An Observer's Guide to the Universe Beyond the Solar System</i>, Vols. 1, 2, 3 (Dover Pubns, 1978).</li>,\n",
       " <li>N. D. Kostjuk, <i>HD-DM-GC-HR-HIP-Bayer-Flamsteed Cross Index</i> (2002) (<a class=\"external text\" href=\"http://cdsarc.u-strasbg.fr/viz-bin/Cat?IV/27\" rel=\"nofollow\">CDS Catalogue IV/27</a>).</li>,\n",
       " <li><a class=\"external text\" href=\"https://the-sky.org/skyonline/\" rel=\"nofollow\">Online Planetarium - The Sky</a> – Free interactive star chart based on location</li>,\n",
       " <li><a class=\"external text\" href=\"http://www.ianridpath.com/constellations1.html\" rel=\"nofollow\">Alphabetical listing of constellations</a></li>,\n",
       " <li><a class=\"external text\" href=\"http://stars.astro.illinois.edu/sow/starname.html\" rel=\"nofollow\">Star Names</a></li>,\n",
       " <li><a class=\"external text\" href=\"https://www.naic.edu/~gibson/starnames/starnames.html\" rel=\"nofollow\">Star Names by constellation</a></li>,\n",
       " <li><a class=\"external text\" href=\"https://www.glyphweb.com/esky/stars/default.htm\" rel=\"nofollow\">Stars: Index of Proper Names</a></li>,\n",
       " <li><a class=\"external text\" href=\"https://www.naic.edu/~gibson/starnames/starnames.html\" rel=\"nofollow\">Studies of Occidental Constellations and Star Names to the Classical Period: An Annotated Bibliography</a></li>,\n",
       " <li><a class=\"external text\" href=\"https://www.obliquity.com/skyeye/misc/name.html\" rel=\"nofollow\">(Un)Common Star Names</a></li>,\n",
       " <li class=\"nv-view\"><a href=\"/wiki/Template:Lists_of_stars_by_constellation\" title=\"Template:Lists of stars by constellation\"><abbr title=\"View this template\">v</abbr></a></li>,\n",
       " <li class=\"nv-talk\"><a href=\"/wiki/Template_talk:Lists_of_stars_by_constellation\" title=\"Template talk:Lists of stars by constellation\"><abbr title=\"Discuss this template\">t</abbr></a></li>,\n",
       " <li class=\"nv-edit\"><a href=\"/wiki/Special:EditPage/Template:Lists_of_stars_by_constellation\" title=\"Special:EditPage/Template:Lists of stars by constellation\"><abbr title=\"Edit this template\">e</abbr></a></li>,\n",
       " <li>List of stars in ...</li>,\n",
       " <li><a href=\"/wiki/List_of_stars_in_Andromeda\" title=\"List of stars in Andromeda\">Andromeda</a></li>,\n",
       " <li><a href=\"/wiki/List_of_stars_in_Antlia\" title=\"List of stars in Antlia\">Antlia</a></li>,\n",
       " <li><a href=\"/wiki/List_of_stars_in_Apus\" title=\"List of stars in Apus\">Apus</a></li>,\n",
       " <li><a href=\"/wiki/List_of_stars_in_Aquarius\" title=\"List of stars in Aquarius\">Aquarius</a></li>,\n",
       " <li><a href=\"/wiki/List_of_stars_in_Aquila\" title=\"List of stars in Aquila\">Aquila</a></li>,\n",
       " <li><a href=\"/wiki/List_of_stars_in_Ara\" title=\"List of stars in Ara\">Ara</a></li>,\n",
       " <li><a href=\"/wiki/List_of_stars_in_Argo_Navis\" title=\"List of stars in Argo Navis\">Argo Navis</a></li>,\n",
       " <li><a href=\"/wiki/List_of_stars_in_Aries\" title=\"List of stars in Aries\">Aries</a></li>,\n",
       " <li><a href=\"/wiki/List_of_stars_in_Auriga\" title=\"List of stars in Auriga\">Auriga</a></li>,\n",
       " <li><a href=\"/wiki/List_of_stars_in_Bo%C3%B6tes\" title=\"List of stars in Boötes\">Boötes</a></li>,\n",
       " <li><a href=\"/wiki/List_of_stars_in_Caelum\" title=\"List of stars in Caelum\">Caelum</a></li>,\n",
       " <li><a href=\"/wiki/List_of_stars_in_Camelopardalis\" title=\"List of stars in Camelopardalis\">Camelopardalis</a></li>,\n",
       " <li><a href=\"/wiki/List_of_stars_in_Cancer\" title=\"List of stars in Cancer\">Cancer</a></li>,\n",
       " <li><a href=\"/wiki/List_of_stars_in_Canes_Venatici\" title=\"List of stars in Canes Venatici\">Canes Venatici</a></li>,\n",
       " <li><a href=\"/wiki/List_of_stars_in_Canis_Major\" title=\"List of stars in Canis Major\">Canis Major</a></li>,\n",
       " <li><a href=\"/wiki/List_of_stars_in_Canis_Minor\" title=\"List of stars in Canis Minor\">Canis Minor</a></li>,\n",
       " <li><a href=\"/wiki/List_of_stars_in_Capricornus\" title=\"List of stars in Capricornus\">Capricornus</a></li>,\n",
       " <li><a href=\"/wiki/List_of_stars_in_Carina\" title=\"List of stars in Carina\">Carina</a></li>,\n",
       " <li><a href=\"/wiki/List_of_stars_in_Cassiopeia\" title=\"List of stars in Cassiopeia\">Cassiopeia</a></li>,\n",
       " <li><a href=\"/wiki/List_of_stars_in_Centaurus\" title=\"List of stars in Centaurus\">Centaurus</a></li>,\n",
       " <li><a href=\"/wiki/List_of_stars_in_Cepheus\" title=\"List of stars in Cepheus\">Cepheus</a></li>,\n",
       " <li><a href=\"/wiki/List_of_stars_in_Cetus\" title=\"List of stars in Cetus\">Cetus</a></li>,\n",
       " <li><a href=\"/wiki/List_of_stars_in_Chamaeleon\" title=\"List of stars in Chamaeleon\">Chamaeleon</a></li>,\n",
       " <li><a href=\"/wiki/List_of_stars_in_Circinus\" title=\"List of stars in Circinus\">Circinus</a></li>,\n",
       " <li><a href=\"/wiki/List_of_stars_in_Columba\" title=\"List of stars in Columba\">Columba</a></li>,\n",
       " <li><a href=\"/wiki/List_of_stars_in_Coma_Berenices\" title=\"List of stars in Coma Berenices\">Coma Berenices</a></li>,\n",
       " <li><a href=\"/wiki/List_of_stars_in_Corona_Australis\" title=\"List of stars in Corona Australis\">Corona Australis</a></li>,\n",
       " <li><a href=\"/wiki/List_of_stars_in_Corona_Borealis\" title=\"List of stars in Corona Borealis\">Corona Borealis</a></li>,\n",
       " <li><a href=\"/wiki/List_of_stars_in_Corvus\" title=\"List of stars in Corvus\">Corvus</a></li>,\n",
       " <li><a href=\"/wiki/List_of_stars_in_Crater\" title=\"List of stars in Crater\">Crater</a></li>,\n",
       " <li><a href=\"/wiki/List_of_stars_in_Crux\" title=\"List of stars in Crux\">Crux</a></li>,\n",
       " <li><a href=\"/wiki/List_of_stars_in_Cygnus\" title=\"List of stars in Cygnus\">Cygnus</a></li>,\n",
       " <li><a href=\"/wiki/List_of_stars_in_Delphinus\" title=\"List of stars in Delphinus\">Delphinus</a></li>,\n",
       " <li><a href=\"/wiki/List_of_stars_in_Dorado\" title=\"List of stars in Dorado\">Dorado</a></li>,\n",
       " <li><a href=\"/wiki/List_of_stars_in_Draco\" title=\"List of stars in Draco\">Draco</a></li>,\n",
       " <li><a href=\"/wiki/List_of_stars_in_Equuleus\" title=\"List of stars in Equuleus\">Equuleus</a></li>,\n",
       " <li><a href=\"/wiki/List_of_stars_in_Eridanus\" title=\"List of stars in Eridanus\">Eridanus</a></li>,\n",
       " <li><a href=\"/wiki/List_of_stars_in_Fornax\" title=\"List of stars in Fornax\">Fornax</a></li>,\n",
       " <li><a href=\"/wiki/List_of_stars_in_Gemini\" title=\"List of stars in Gemini\">Gemini</a></li>,\n",
       " <li><a href=\"/wiki/List_of_stars_in_Grus\" title=\"List of stars in Grus\">Grus</a></li>,\n",
       " <li><a href=\"/wiki/List_of_stars_in_Hercules\" title=\"List of stars in Hercules\">Hercules</a></li>,\n",
       " <li><a href=\"/wiki/List_of_stars_in_Horologium\" title=\"List of stars in Horologium\">Horologium</a></li>,\n",
       " <li><a href=\"/wiki/List_of_stars_in_Hydra\" title=\"List of stars in Hydra\">Hydra</a></li>,\n",
       " <li><a href=\"/wiki/List_of_stars_in_Hydrus\" title=\"List of stars in Hydrus\">Hydrus</a></li>,\n",
       " <li><a href=\"/wiki/List_of_stars_in_Indus\" title=\"List of stars in Indus\">Indus</a></li>,\n",
       " <li><a href=\"/wiki/List_of_stars_in_Lacerta\" title=\"List of stars in Lacerta\">Lacerta</a></li>,\n",
       " <li><a href=\"/wiki/List_of_stars_in_Leo\" title=\"List of stars in Leo\">Leo</a></li>,\n",
       " <li><a href=\"/wiki/List_of_stars_in_Leo_Minor\" title=\"List of stars in Leo Minor\">Leo Minor</a></li>,\n",
       " <li><a href=\"/wiki/List_of_stars_in_Lepus\" title=\"List of stars in Lepus\">Lepus</a></li>,\n",
       " <li><a href=\"/wiki/List_of_stars_in_Libra\" title=\"List of stars in Libra\">Libra</a></li>,\n",
       " <li><a href=\"/wiki/List_of_stars_in_Lupus\" title=\"List of stars in Lupus\">Lupus</a></li>,\n",
       " <li><a href=\"/wiki/List_of_stars_in_Lynx\" title=\"List of stars in Lynx\">Lynx</a></li>,\n",
       " <li><a href=\"/wiki/List_of_stars_in_Lyra\" title=\"List of stars in Lyra\">Lyra</a></li>,\n",
       " <li><a href=\"/wiki/List_of_stars_in_Mensa\" title=\"List of stars in Mensa\">Mensa</a></li>,\n",
       " <li><a href=\"/wiki/List_of_stars_in_Microscopium\" title=\"List of stars in Microscopium\">Microscopium</a></li>,\n",
       " <li><a href=\"/wiki/List_of_stars_in_Monoceros\" title=\"List of stars in Monoceros\">Monoceros</a></li>,\n",
       " <li><a href=\"/wiki/List_of_stars_in_Musca\" title=\"List of stars in Musca\">Musca</a></li>,\n",
       " <li><a href=\"/wiki/List_of_stars_in_Norma\" title=\"List of stars in Norma\">Norma</a></li>,\n",
       " <li><a href=\"/wiki/List_of_stars_in_Octans\" title=\"List of stars in Octans\">Octans</a></li>,\n",
       " <li><a href=\"/wiki/List_of_stars_in_Ophiuchus\" title=\"List of stars in Ophiuchus\">Ophiuchus</a></li>,\n",
       " <li><a href=\"/wiki/List_of_stars_in_Orion\" title=\"List of stars in Orion\">Orion</a></li>,\n",
       " <li><a href=\"/wiki/List_of_stars_in_Pavo\" title=\"List of stars in Pavo\">Pavo</a></li>,\n",
       " <li><a href=\"/wiki/List_of_stars_in_Pegasus\" title=\"List of stars in Pegasus\">Pegasus</a></li>,\n",
       " <li><a href=\"/wiki/List_of_stars_in_Perseus\" title=\"List of stars in Perseus\">Perseus</a></li>,\n",
       " <li><a href=\"/wiki/List_of_stars_in_Phoenix\" title=\"List of stars in Phoenix\">Phoenix</a></li>,\n",
       " <li><a href=\"/wiki/List_of_stars_in_Pictor\" title=\"List of stars in Pictor\">Pictor</a></li>,\n",
       " <li><a href=\"/wiki/List_of_stars_in_Pisces\" title=\"List of stars in Pisces\">Pisces</a></li>,\n",
       " <li><a href=\"/wiki/List_of_stars_in_Piscis_Austrinus\" title=\"List of stars in Piscis Austrinus\">Piscis Austrinus</a></li>,\n",
       " <li><a href=\"/wiki/List_of_stars_in_Puppis\" title=\"List of stars in Puppis\">Puppis</a></li>,\n",
       " <li><a href=\"/wiki/List_of_stars_in_Pyxis\" title=\"List of stars in Pyxis\">Pyxis</a></li>,\n",
       " <li><a href=\"/wiki/List_of_stars_in_Reticulum\" title=\"List of stars in Reticulum\">Reticulum</a></li>,\n",
       " <li><a href=\"/wiki/List_of_stars_in_Sagitta\" title=\"List of stars in Sagitta\">Sagitta</a></li>,\n",
       " <li><a href=\"/wiki/List_of_stars_in_Sagittarius\" title=\"List of stars in Sagittarius\">Sagittarius</a></li>,\n",
       " <li><a href=\"/wiki/List_of_stars_in_Scorpius\" title=\"List of stars in Scorpius\">Scorpius</a></li>,\n",
       " <li><a href=\"/wiki/List_of_stars_in_Sculptor\" title=\"List of stars in Sculptor\">Sculptor</a></li>,\n",
       " <li><a href=\"/wiki/List_of_stars_in_Scutum\" title=\"List of stars in Scutum\">Scutum</a></li>,\n",
       " <li><a href=\"/wiki/List_of_stars_in_Serpens\" title=\"List of stars in Serpens\">Serpens</a></li>,\n",
       " <li><a href=\"/wiki/List_of_stars_in_Sextans\" title=\"List of stars in Sextans\">Sextans</a></li>,\n",
       " <li><a href=\"/wiki/List_of_stars_in_Taurus\" title=\"List of stars in Taurus\">Taurus</a></li>,\n",
       " <li><a href=\"/wiki/List_of_stars_in_Telescopium\" title=\"List of stars in Telescopium\">Telescopium</a></li>,\n",
       " <li><a href=\"/wiki/Telescopium_Herschelii#List_of_stars\" title=\"Telescopium Herschelii\">Telescopium Herschelii</a></li>,\n",
       " <li><a href=\"/wiki/List_of_stars_in_Triangulum\" title=\"List of stars in Triangulum\">Triangulum</a></li>,\n",
       " <li><a href=\"/wiki/List_of_stars_in_Triangulum_Australe\" title=\"List of stars in Triangulum Australe\">Triangulum Australe</a></li>,\n",
       " <li><a href=\"/wiki/List_of_stars_in_Tucana\" title=\"List of stars in Tucana\">Tucana</a></li>,\n",
       " <li><a href=\"/wiki/List_of_stars_in_Ursa_Major\" title=\"List of stars in Ursa Major\">Ursa Major</a></li>,\n",
       " <li><a href=\"/wiki/List_of_stars_in_Ursa_Minor\" title=\"List of stars in Ursa Minor\">Ursa Minor</a></li>,\n",
       " <li><a href=\"/wiki/List_of_stars_in_Vela\" title=\"List of stars in Vela\">Vela</a></li>,\n",
       " <li><a href=\"/wiki/List_of_stars_in_Virgo\" title=\"List of stars in Virgo\">Virgo</a></li>,\n",
       " <li><a href=\"/wiki/List_of_stars_in_Volans\" title=\"List of stars in Volans\">Volans</a></li>,\n",
       " <li><a href=\"/wiki/List_of_stars_in_Vulpecula\" title=\"List of stars in Vulpecula\">Vulpecula</a></li>,\n",
       " <li class=\"nv-view\"><a href=\"/wiki/Template:Constellations/modern\" title=\"Template:Constellations/modern\"><abbr title=\"View this template\">v</abbr></a></li>,\n",
       " <li class=\"nv-talk\"><a href=\"/wiki/Template_talk:Constellations/modern\" title=\"Template talk:Constellations/modern\"><abbr title=\"Discuss this template\">t</abbr></a></li>,\n",
       " <li class=\"nv-edit\"><a href=\"/wiki/Special:EditPage/Template:Constellations/modern\" title=\"Special:EditPage/Template:Constellations/modern\"><abbr title=\"Edit this template\">e</abbr></a></li>,\n",
       " <li><a href=\"/wiki/Andromeda_(constellation)\" title=\"Andromeda (constellation)\">Andromeda</a></li>,\n",
       " <li><a href=\"/wiki/Antlia\" title=\"Antlia\">Antlia</a></li>,\n",
       " <li><a href=\"/wiki/Apus\" title=\"Apus\">Apus</a></li>,\n",
       " <li><a href=\"/wiki/Aquarius_(constellation)\" title=\"Aquarius (constellation)\">Aquarius</a></li>,\n",
       " <li><a href=\"/wiki/Aquila_(constellation)\" title=\"Aquila (constellation)\">Aquila</a></li>,\n",
       " <li><a href=\"/wiki/Ara_(constellation)\" title=\"Ara (constellation)\">Ara</a></li>,\n",
       " <li><a href=\"/wiki/Aries_(constellation)\" title=\"Aries (constellation)\">Aries</a></li>,\n",
       " <li><a href=\"/wiki/Auriga\" title=\"Auriga\">Auriga</a></li>,\n",
       " <li><a href=\"/wiki/Bo%C3%B6tes\" title=\"Boötes\">Boötes</a></li>,\n",
       " <li><a href=\"/wiki/Caelum\" title=\"Caelum\">Caelum</a></li>,\n",
       " <li><a href=\"/wiki/Camelopardalis\" title=\"Camelopardalis\">Camelopardalis</a></li>,\n",
       " <li><a href=\"/wiki/Cancer_(constellation)\" title=\"Cancer (constellation)\">Cancer</a></li>,\n",
       " <li><a href=\"/wiki/Canes_Venatici\" title=\"Canes Venatici\">Canes Venatici</a></li>,\n",
       " <li><a href=\"/wiki/Canis_Major\" title=\"Canis Major\">Canis Major</a></li>,\n",
       " <li><a href=\"/wiki/Canis_Minor\" title=\"Canis Minor\">Canis Minor</a></li>,\n",
       " <li><a href=\"/wiki/Capricornus\" title=\"Capricornus\">Capricornus</a></li>,\n",
       " <li><a href=\"/wiki/Carina_(constellation)\" title=\"Carina (constellation)\">Carina</a></li>,\n",
       " <li><a href=\"/wiki/Cassiopeia_(constellation)\" title=\"Cassiopeia (constellation)\">Cassiopeia</a></li>,\n",
       " <li><a href=\"/wiki/Centaurus\" title=\"Centaurus\">Centaurus</a></li>,\n",
       " <li><a href=\"/wiki/Cepheus_(constellation)\" title=\"Cepheus (constellation)\">Cepheus</a></li>,\n",
       " <li><a href=\"/wiki/Cetus\" title=\"Cetus\">Cetus</a></li>,\n",
       " <li><a href=\"/wiki/Chamaeleon\" title=\"Chamaeleon\">Chamaeleon</a></li>,\n",
       " <li><a href=\"/wiki/Circinus\" title=\"Circinus\">Circinus</a></li>,\n",
       " <li><a href=\"/wiki/Columba_(constellation)\" title=\"Columba (constellation)\">Columba</a></li>,\n",
       " <li><a href=\"/wiki/Coma_Berenices\" title=\"Coma Berenices\">Coma Berenices</a></li>,\n",
       " <li><a href=\"/wiki/Corona_Australis\" title=\"Corona Australis\">Corona Australis</a></li>,\n",
       " <li><a href=\"/wiki/Corona_Borealis\" title=\"Corona Borealis\">Corona Borealis</a></li>,\n",
       " <li><a href=\"/wiki/Corvus_(constellation)\" title=\"Corvus (constellation)\">Corvus</a></li>,\n",
       " <li><a href=\"/wiki/Crater_(constellation)\" title=\"Crater (constellation)\">Crater</a></li>,\n",
       " <li><a href=\"/wiki/Crux\" title=\"Crux\">Crux</a></li>,\n",
       " <li><a href=\"/wiki/Cygnus_(constellation)\" title=\"Cygnus (constellation)\">Cygnus</a></li>,\n",
       " <li><a href=\"/wiki/Delphinus\" title=\"Delphinus\">Delphinus</a></li>,\n",
       " <li><a href=\"/wiki/Dorado\" title=\"Dorado\">Dorado</a></li>,\n",
       " <li><a href=\"/wiki/Draco_(constellation)\" title=\"Draco (constellation)\">Draco</a></li>,\n",
       " <li><a href=\"/wiki/Equuleus\" title=\"Equuleus\">Equuleus</a></li>,\n",
       " <li><a href=\"/wiki/Eridanus_(constellation)\" title=\"Eridanus (constellation)\">Eridanus</a></li>,\n",
       " <li><a href=\"/wiki/Fornax\" title=\"Fornax\">Fornax</a></li>,\n",
       " <li><a href=\"/wiki/Gemini_(constellation)\" title=\"Gemini (constellation)\">Gemini</a></li>,\n",
       " <li><a href=\"/wiki/Grus_(constellation)\" title=\"Grus (constellation)\">Grus</a></li>,\n",
       " <li><a href=\"/wiki/Hercules_(constellation)\" title=\"Hercules (constellation)\">Hercules</a></li>,\n",
       " <li><a href=\"/wiki/Horologium_(constellation)\" title=\"Horologium (constellation)\">Horologium</a></li>,\n",
       " <li><a href=\"/wiki/Hydra_(constellation)\" title=\"Hydra (constellation)\">Hydra</a></li>,\n",
       " <li><a href=\"/wiki/Hydrus\" title=\"Hydrus\">Hydrus</a></li>,\n",
       " <li><a href=\"/wiki/Indus_(constellation)\" title=\"Indus (constellation)\">Indus</a></li>,\n",
       " <li><a href=\"/wiki/Lacerta\" title=\"Lacerta\">Lacerta</a></li>,\n",
       " <li><a href=\"/wiki/Leo_(constellation)\" title=\"Leo (constellation)\">Leo</a></li>,\n",
       " <li><a href=\"/wiki/Leo_Minor\" title=\"Leo Minor\">Leo Minor</a></li>,\n",
       " <li><a href=\"/wiki/Lepus_(constellation)\" title=\"Lepus (constellation)\">Lepus</a></li>,\n",
       " <li><a href=\"/wiki/Libra_(constellation)\" title=\"Libra (constellation)\">Libra</a></li>,\n",
       " <li><a href=\"/wiki/Lupus_(constellation)\" title=\"Lupus (constellation)\">Lupus</a></li>,\n",
       " <li><a href=\"/wiki/Lynx_(constellation)\" title=\"Lynx (constellation)\">Lynx</a></li>,\n",
       " <li><a href=\"/wiki/Lyra\" title=\"Lyra\">Lyra</a></li>,\n",
       " <li><a href=\"/wiki/Mensa_(constellation)\" title=\"Mensa (constellation)\">Mensa</a></li>,\n",
       " <li><a href=\"/wiki/Microscopium\" title=\"Microscopium\">Microscopium</a></li>,\n",
       " <li><a href=\"/wiki/Monoceros\" title=\"Monoceros\">Monoceros</a></li>,\n",
       " <li><a href=\"/wiki/Musca\" title=\"Musca\">Musca</a></li>,\n",
       " <li><a href=\"/wiki/Norma_(constellation)\" title=\"Norma (constellation)\">Norma</a></li>,\n",
       " <li><a href=\"/wiki/Octans\" title=\"Octans\">Octans</a></li>,\n",
       " <li><a href=\"/wiki/Ophiuchus\" title=\"Ophiuchus\">Ophiuchus</a></li>,\n",
       " <li><a href=\"/wiki/Orion_(constellation)\" title=\"Orion (constellation)\">Orion</a></li>,\n",
       " <li><a href=\"/wiki/Pavo_(constellation)\" title=\"Pavo (constellation)\">Pavo</a></li>,\n",
       " <li><a href=\"/wiki/Pegasus_(constellation)\" title=\"Pegasus (constellation)\">Pegasus</a></li>,\n",
       " <li><a href=\"/wiki/Perseus_(constellation)\" title=\"Perseus (constellation)\">Perseus</a></li>,\n",
       " <li><a href=\"/wiki/Phoenix_(constellation)\" title=\"Phoenix (constellation)\">Phoenix</a></li>,\n",
       " <li><a href=\"/wiki/Pictor\" title=\"Pictor\">Pictor</a></li>,\n",
       " <li><a href=\"/wiki/Pisces_(constellation)\" title=\"Pisces (constellation)\">Pisces</a></li>,\n",
       " <li><a href=\"/wiki/Piscis_Austrinus\" title=\"Piscis Austrinus\">Piscis Austrinus</a></li>,\n",
       " <li><a href=\"/wiki/Puppis\" title=\"Puppis\">Puppis</a></li>,\n",
       " <li><a href=\"/wiki/Pyxis\" title=\"Pyxis\">Pyxis</a></li>,\n",
       " <li><a href=\"/wiki/Reticulum\" title=\"Reticulum\">Reticulum</a></li>,\n",
       " <li><a href=\"/wiki/Sagitta\" title=\"Sagitta\">Sagitta</a></li>,\n",
       " <li><a href=\"/wiki/Sagittarius_(constellation)\" title=\"Sagittarius (constellation)\">Sagittarius</a></li>,\n",
       " <li><a href=\"/wiki/Scorpius\" title=\"Scorpius\">Scorpius</a></li>,\n",
       " <li><a href=\"/wiki/Sculptor_(constellation)\" title=\"Sculptor (constellation)\">Sculptor</a></li>,\n",
       " <li><a href=\"/wiki/Scutum_(constellation)\" title=\"Scutum (constellation)\">Scutum</a></li>,\n",
       " <li><a href=\"/wiki/Serpens\" title=\"Serpens\">Serpens</a></li>,\n",
       " <li><a href=\"/wiki/Sextans\" title=\"Sextans\">Sextans</a></li>,\n",
       " <li><a href=\"/wiki/Taurus_(constellation)\" title=\"Taurus (constellation)\">Taurus</a></li>,\n",
       " <li><a href=\"/wiki/Telescopium\" title=\"Telescopium\">Telescopium</a></li>,\n",
       " <li><a href=\"/wiki/Triangulum\" title=\"Triangulum\">Triangulum</a></li>,\n",
       " <li><a href=\"/wiki/Triangulum_Australe\" title=\"Triangulum Australe\">Triangulum Australe</a></li>,\n",
       " <li><a href=\"/wiki/Tucana\" title=\"Tucana\">Tucana</a></li>,\n",
       " <li><a href=\"/wiki/Ursa_Major\" title=\"Ursa Major\">Ursa Major</a></li>,\n",
       " <li><a href=\"/wiki/Ursa_Minor\" title=\"Ursa Minor\">Ursa Minor</a></li>,\n",
       " <li><a href=\"/wiki/Vela_(constellation)\" title=\"Vela (constellation)\">Vela</a></li>,\n",
       " <li><a href=\"/wiki/Virgo_(constellation)\" title=\"Virgo (constellation)\">Virgo</a></li>,\n",
       " <li><a href=\"/wiki/Volans\" title=\"Volans\">Volans</a></li>,\n",
       " <li><a href=\"/wiki/Vulpecula\" title=\"Vulpecula\">Vulpecula</a></li>,\n",
       " <li><a href=\"/wiki/Lists_of_constellations\" title=\"Lists of constellations\">Lists of constellations</a></li>,\n",
       " <li class=\"nv-view\"><a href=\"/wiki/Template:Star\" title=\"Template:Star\"><abbr title=\"View this template\">v</abbr></a></li>,\n",
       " <li class=\"nv-talk\"><a href=\"/wiki/Template_talk:Star\" title=\"Template talk:Star\"><abbr title=\"Discuss this template\">t</abbr></a></li>,\n",
       " <li class=\"nv-edit\"><a href=\"/wiki/Special:EditPage/Template:Star\" title=\"Special:EditPage/Template:Star\"><abbr title=\"Edit this template\">e</abbr></a></li>,\n",
       " <li><a href=\"/wiki/Lists_of_stars\" title=\"Lists of stars\">List</a></li>,\n",
       " <li><a href=\"/wiki/Accretion_(astrophysics)\" title=\"Accretion (astrophysics)\">Accretion</a></li>,\n",
       " <li><a href=\"/wiki/Molecular_cloud\" title=\"Molecular cloud\">Molecular cloud</a></li>,\n",
       " <li><a href=\"/wiki/Bok_globule\" title=\"Bok globule\">Bok globule</a></li>,\n",
       " <li><a href=\"/wiki/Young_stellar_object\" title=\"Young stellar object\">Young stellar object</a>\n",
       " <ul><li><a href=\"/wiki/Protostar\" title=\"Protostar\">Protostar</a></li>\n",
       " <li><a href=\"/wiki/Pre-main-sequence_star\" title=\"Pre-main-sequence star\">Pre-main-sequence</a></li>\n",
       " <li><a href=\"/wiki/Herbig_Ae/Be_star\" title=\"Herbig Ae/Be star\">Herbig Ae/Be</a></li>\n",
       " <li><a href=\"/wiki/T_Tauri_star\" title=\"T Tauri star\">T Tauri</a></li></ul></li>,\n",
       " <li><a href=\"/wiki/Protostar\" title=\"Protostar\">Protostar</a></li>,\n",
       " <li><a href=\"/wiki/Pre-main-sequence_star\" title=\"Pre-main-sequence star\">Pre-main-sequence</a></li>,\n",
       " <li><a href=\"/wiki/Herbig_Ae/Be_star\" title=\"Herbig Ae/Be star\">Herbig Ae/Be</a></li>,\n",
       " <li><a href=\"/wiki/T_Tauri_star\" title=\"T Tauri star\">T Tauri</a></li>,\n",
       " <li><a href=\"/wiki/Herbig%E2%80%93Haro_object\" title=\"Herbig–Haro object\">Herbig–Haro object</a></li>,\n",
       " <li><a href=\"/wiki/Hayashi_track\" title=\"Hayashi track\">Hayashi track</a></li>,\n",
       " <li><a href=\"/wiki/Henyey_track\" title=\"Henyey track\">Henyey track</a></li>,\n",
       " <li><a href=\"/wiki/Main_sequence\" title=\"Main sequence\">Main sequence</a></li>,\n",
       " <li><a href=\"/wiki/Red-giant_branch\" title=\"Red-giant branch\">Red-giant branch</a></li>,\n",
       " <li><a href=\"/wiki/Horizontal_branch\" title=\"Horizontal branch\">Horizontal branch</a>\n",
       " <ul><li><a href=\"/wiki/Red_clump\" title=\"Red clump\">Red clump</a></li></ul></li>,\n",
       " <li><a href=\"/wiki/Red_clump\" title=\"Red clump\">Red clump</a></li>,\n",
       " <li><a href=\"/wiki/Asymptotic_giant_branch\" title=\"Asymptotic giant branch\">Asymptotic giant branch</a>\n",
       " <ul><li><a href=\"/wiki/Post-AGB_star\" title=\"Post-AGB star\">post-AGB</a></li>\n",
       " <li><a href=\"/wiki/Super-AGB_star\" title=\"Super-AGB star\">super-AGB</a></li></ul></li>,\n",
       " <li><a href=\"/wiki/Post-AGB_star\" title=\"Post-AGB star\">post-AGB</a></li>,\n",
       " <li><a href=\"/wiki/Super-AGB_star\" title=\"Super-AGB star\">super-AGB</a></li>,\n",
       " <li><a href=\"/wiki/Blue_loop\" title=\"Blue loop\">Blue loop</a></li>,\n",
       " <li><a href=\"/wiki/Planetary_nebula\" title=\"Planetary nebula\">Planetary nebula</a>\n",
       " <ul><li><a href=\"/wiki/Protoplanetary_nebula\" title=\"Protoplanetary nebula\">Protoplanetary</a></li></ul></li>,\n",
       " <li><a href=\"/wiki/Protoplanetary_nebula\" title=\"Protoplanetary nebula\">Protoplanetary</a></li>,\n",
       " <li><a href=\"/wiki/Wolf%E2%80%93Rayet_nebula\" title=\"Wolf–Rayet nebula\">Wolf–Rayet nebula</a></li>,\n",
       " <li><a href=\"/wiki/PG_1159_star\" title=\"PG 1159 star\">PG1159</a></li>,\n",
       " <li><a href=\"/wiki/Dredge-up\" title=\"Dredge-up\">Dredge-up</a></li>,\n",
       " <li><a href=\"/wiki/OH/IR_star\" title=\"OH/IR star\">OH/IR</a></li>,\n",
       " <li><a href=\"/wiki/Instability_strip\" title=\"Instability strip\">Instability strip</a></li>,\n",
       " <li><a href=\"/wiki/Luminous_blue_variable\" title=\"Luminous blue variable\">Luminous blue variable</a></li>,\n",
       " <li><a href=\"/wiki/Stellar_population\" title=\"Stellar population\">Stellar population</a></li>,\n",
       " <li><a href=\"/wiki/Supernova\" title=\"Supernova\">Supernova</a>\n",
       " <ul><li><a href=\"/wiki/Superluminous_supernova\" title=\"Superluminous supernova\">Superluminous</a></li>\n",
       " <li><a href=\"/wiki/Hypernova\" title=\"Hypernova\">Hypernova</a></li></ul></li>,\n",
       " <li><a href=\"/wiki/Superluminous_supernova\" title=\"Superluminous supernova\">Superluminous</a></li>,\n",
       " <li><a href=\"/wiki/Hypernova\" title=\"Hypernova\">Hypernova</a></li>,\n",
       " <li><a class=\"mw-redirect\" href=\"/wiki/Early-type_star\" title=\"Early-type star\">Early</a></li>,\n",
       " <li><a class=\"mw-redirect\" href=\"/wiki/Late-type_star\" title=\"Late-type star\">Late</a></li>,\n",
       " <li>Main sequence\n",
       " <ul><li><a href=\"/wiki/O-type_main-sequence_star\" title=\"O-type main-sequence star\">O</a></li>\n",
       " <li><a href=\"/wiki/B-type_main-sequence_star\" title=\"B-type main-sequence star\">B</a></li>\n",
       " <li><a href=\"/wiki/A-type_main-sequence_star\" title=\"A-type main-sequence star\">A</a></li>\n",
       " <li><a href=\"/wiki/F-type_main-sequence_star\" title=\"F-type main-sequence star\">F</a></li>\n",
       " <li><a href=\"/wiki/G-type_main-sequence_star\" title=\"G-type main-sequence star\">G</a></li>\n",
       " <li><a href=\"/wiki/K-type_main-sequence_star\" title=\"K-type main-sequence star\">K</a></li>\n",
       " <li><a href=\"/wiki/Red_dwarf\" title=\"Red dwarf\">M</a></li></ul></li>,\n",
       " <li><a href=\"/wiki/O-type_main-sequence_star\" title=\"O-type main-sequence star\">O</a></li>,\n",
       " <li><a href=\"/wiki/B-type_main-sequence_star\" title=\"B-type main-sequence star\">B</a></li>,\n",
       " <li><a href=\"/wiki/A-type_main-sequence_star\" title=\"A-type main-sequence star\">A</a></li>,\n",
       " <li><a href=\"/wiki/F-type_main-sequence_star\" title=\"F-type main-sequence star\">F</a></li>,\n",
       " <li><a href=\"/wiki/G-type_main-sequence_star\" title=\"G-type main-sequence star\">G</a></li>,\n",
       " <li><a href=\"/wiki/K-type_main-sequence_star\" title=\"K-type main-sequence star\">K</a></li>,\n",
       " <li><a href=\"/wiki/Red_dwarf\" title=\"Red dwarf\">M</a></li>,\n",
       " <li><a href=\"/wiki/Subdwarf\" title=\"Subdwarf\">Subdwarf</a>\n",
       " <ul><li><a href=\"/wiki/Subdwarf_O_star\" title=\"Subdwarf O star\">O</a></li>\n",
       " <li><a href=\"/wiki/Subdwarf_B_star\" title=\"Subdwarf B star\">B</a></li></ul></li>,\n",
       " <li><a href=\"/wiki/Subdwarf_O_star\" title=\"Subdwarf O star\">O</a></li>,\n",
       " <li><a href=\"/wiki/Subdwarf_B_star\" title=\"Subdwarf B star\">B</a></li>,\n",
       " <li><a href=\"/wiki/Wolf%E2%80%93Rayet_star\" title=\"Wolf–Rayet star\">WR</a></li>,\n",
       " <li><a href=\"/wiki/OB_star\" title=\"OB star\">OB</a></li>,\n",
       " <li><a href=\"/wiki/Subgiant\" title=\"Subgiant\">Subgiant</a></li>,\n",
       " <li><a href=\"/wiki/Giant_star\" title=\"Giant star\">Giant</a>\n",
       " <ul><li><a href=\"/wiki/Blue_giant\" title=\"Blue giant\">Blue</a></li>\n",
       " <li><a href=\"/wiki/Red_giant\" title=\"Red giant\">Red</a></li>\n",
       " <li><a class=\"mw-redirect\" href=\"/wiki/Yellow_giant\" title=\"Yellow giant\">Yellow</a></li></ul></li>,\n",
       " <li><a href=\"/wiki/Blue_giant\" title=\"Blue giant\">Blue</a></li>,\n",
       " <li><a href=\"/wiki/Red_giant\" title=\"Red giant\">Red</a></li>,\n",
       " <li><a class=\"mw-redirect\" href=\"/wiki/Yellow_giant\" title=\"Yellow giant\">Yellow</a></li>,\n",
       " <li><a class=\"mw-redirect\" href=\"/wiki/Bright_giant\" title=\"Bright giant\">Bright giant</a></li>,\n",
       " <li><a href=\"/wiki/Supergiant\" title=\"Supergiant\">Supergiant</a>\n",
       " <ul><li><a href=\"/wiki/Blue_supergiant\" title=\"Blue supergiant\">Blue</a></li>\n",
       " <li><a href=\"/wiki/Red_supergiant\" title=\"Red supergiant\">Red</a></li>\n",
       " <li><a href=\"/wiki/Yellow_supergiant\" title=\"Yellow supergiant\">Yellow</a></li></ul></li>,\n",
       " <li><a href=\"/wiki/Blue_supergiant\" title=\"Blue supergiant\">Blue</a></li>,\n",
       " <li><a href=\"/wiki/Red_supergiant\" title=\"Red supergiant\">Red</a></li>,\n",
       " <li><a href=\"/wiki/Yellow_supergiant\" title=\"Yellow supergiant\">Yellow</a></li>,\n",
       " <li><a href=\"/wiki/Hypergiant\" title=\"Hypergiant\">Hypergiant</a>\n",
       " <ul><li><a href=\"/wiki/Yellow_hypergiant\" title=\"Yellow hypergiant\">Yellow</a></li></ul></li>,\n",
       " <li><a href=\"/wiki/Yellow_hypergiant\" title=\"Yellow hypergiant\">Yellow</a></li>,\n",
       " <li><a href=\"/wiki/Carbon_star\" title=\"Carbon star\">Carbon</a>\n",
       " <ul><li><a href=\"/wiki/S-type_star\" title=\"S-type star\">S</a></li>\n",
       " <li><a href=\"/wiki/CN_star\" title=\"CN star\">CN</a></li>\n",
       " <li><a href=\"/wiki/CH_star\" title=\"CH star\">CH</a></li></ul></li>,\n",
       " <li><a href=\"/wiki/S-type_star\" title=\"S-type star\">S</a></li>,\n",
       " <li><a href=\"/wiki/CN_star\" title=\"CN star\">CN</a></li>,\n",
       " <li><a href=\"/wiki/CH_star\" title=\"CH star\">CH</a></li>,\n",
       " <li><a href=\"/wiki/White_dwarf\" title=\"White dwarf\">White dwarf</a></li>,\n",
       " <li><a href=\"/wiki/Chemically_peculiar_star\" title=\"Chemically peculiar star\">Chemically peculiar</a>\n",
       " <ul><li><a href=\"/wiki/Am_star\" title=\"Am star\">Am</a></li>\n",
       " <li><a href=\"/wiki/Ap_and_Bp_stars\" title=\"Ap and Bp stars\">Ap/Bp</a></li>\n",
       " <li><a href=\"/wiki/CEMP_star\" title=\"CEMP star\">CEMP</a></li>\n",
       " <li><a href=\"/wiki/Mercury-manganese_star\" title=\"Mercury-manganese star\">HgMn</a></li>\n",
       " <li><a href=\"/wiki/Helium-weak_star\" title=\"Helium-weak star\">He-weak</a></li>\n",
       " <li><a href=\"/wiki/Barium_star\" title=\"Barium star\">Barium</a></li>\n",
       " <li><a href=\"/wiki/Lambda_Bo%C3%B6tis_star\" title=\"Lambda Boötis star\">Lambda Boötis</a></li>\n",
       " <li><a href=\"/wiki/Lead_star\" title=\"Lead star\">Lead</a></li>\n",
       " <li><a href=\"/wiki/Technetium_star\" title=\"Technetium star\">Technetium</a></li></ul></li>,\n",
       " <li><a href=\"/wiki/Am_star\" title=\"Am star\">Am</a></li>,\n",
       " <li><a href=\"/wiki/Ap_and_Bp_stars\" title=\"Ap and Bp stars\">Ap/Bp</a></li>,\n",
       " <li><a href=\"/wiki/CEMP_star\" title=\"CEMP star\">CEMP</a></li>,\n",
       " <li><a href=\"/wiki/Mercury-manganese_star\" title=\"Mercury-manganese star\">HgMn</a></li>,\n",
       " <li><a href=\"/wiki/Helium-weak_star\" title=\"Helium-weak star\">He-weak</a></li>,\n",
       " <li><a href=\"/wiki/Barium_star\" title=\"Barium star\">Barium</a></li>,\n",
       " <li><a href=\"/wiki/Lambda_Bo%C3%B6tis_star\" title=\"Lambda Boötis star\">Lambda Boötis</a></li>,\n",
       " <li><a href=\"/wiki/Lead_star\" title=\"Lead star\">Lead</a></li>,\n",
       " <li><a href=\"/wiki/Technetium_star\" title=\"Technetium star\">Technetium</a></li>,\n",
       " <li><a href=\"/wiki/Be_star\" title=\"Be star\">Be</a>\n",
       " <ul><li><a href=\"/wiki/Shell_star\" title=\"Shell star\">Shell</a></li></ul></li>,\n",
       " <li><a href=\"/wiki/Shell_star\" title=\"Shell star\">Shell</a></li>,\n",
       " <li><a href=\"/wiki/B(e)_star\" title=\"B(e) star\">B[e]</a></li>,\n",
       " <li><a href=\"/wiki/Helium_star\" title=\"Helium star\">Helium</a>\n",
       " <ul><li><a href=\"/wiki/Extreme_helium_star\" title=\"Extreme helium star\">Extreme</a></li></ul></li>,\n",
       " <li><a href=\"/wiki/Extreme_helium_star\" title=\"Extreme helium star\">Extreme</a></li>,\n",
       " <li><a href=\"/wiki/Blue_straggler\" title=\"Blue straggler\">Blue straggler</a></li>,\n",
       " <li><a class=\"mw-redirect\" href=\"/wiki/Compact_star\" title=\"Compact star\">Compact star</a></li>,\n",
       " <li><a href=\"/wiki/IRAS_00500%2B6713\" title=\"IRAS 00500+6713\">Parker's star</a></li>,\n",
       " <li><a href=\"/wiki/White_dwarf\" title=\"White dwarf\">White dwarf</a>\n",
       " <ul><li><a href=\"/wiki/Helium_planet\" title=\"Helium planet\">Helium planet</a></li></ul></li>,\n",
       " <li><a href=\"/wiki/Helium_planet\" title=\"Helium planet\">Helium planet</a></li>,\n",
       " <li><a href=\"/wiki/Neutron_star\" title=\"Neutron star\">Neutron</a>\n",
       " <ul><li><a href=\"/wiki/Radio-quiet_neutron_star\" title=\"Radio-quiet neutron star\">Radio-quiet</a></li>\n",
       " <li><a href=\"/wiki/Pulsar\" title=\"Pulsar\">Pulsar</a>\n",
       " <ul><li><a href=\"/wiki/Binary_pulsar\" title=\"Binary pulsar\">Binary</a></li>\n",
       " <li><a href=\"/wiki/X-ray_pulsar\" title=\"X-ray pulsar\">X-ray</a></li></ul></li>\n",
       " <li><a href=\"/wiki/Magnetar\" title=\"Magnetar\">Magnetar</a></li></ul></li>,\n",
       " <li><a href=\"/wiki/Radio-quiet_neutron_star\" title=\"Radio-quiet neutron star\">Radio-quiet</a></li>,\n",
       " <li><a href=\"/wiki/Pulsar\" title=\"Pulsar\">Pulsar</a>\n",
       " <ul><li><a href=\"/wiki/Binary_pulsar\" title=\"Binary pulsar\">Binary</a></li>\n",
       " <li><a href=\"/wiki/X-ray_pulsar\" title=\"X-ray pulsar\">X-ray</a></li></ul></li>,\n",
       " <li><a href=\"/wiki/Binary_pulsar\" title=\"Binary pulsar\">Binary</a></li>,\n",
       " <li><a href=\"/wiki/X-ray_pulsar\" title=\"X-ray pulsar\">X-ray</a></li>,\n",
       " <li><a href=\"/wiki/Magnetar\" title=\"Magnetar\">Magnetar</a></li>,\n",
       " <li><a href=\"/wiki/Stellar_black_hole\" title=\"Stellar black hole\">Stellar black hole</a></li>,\n",
       " <li><a href=\"/wiki/X-ray_binary\" title=\"X-ray binary\">X-ray binary</a>\n",
       " <ul><li><a href=\"/wiki/X-ray_burster\" title=\"X-ray burster\">Burster</a></li></ul></li>,\n",
       " <li><a href=\"/wiki/X-ray_burster\" title=\"X-ray burster\">Burster</a></li>,\n",
       " <li><a href=\"/wiki/Soft_gamma_repeater\" title=\"Soft gamma repeater\">SGR</a></li>,\n",
       " <li><a href=\"/wiki/Blue_dwarf_(red-dwarf_stage)\" title=\"Blue dwarf (red-dwarf stage)\">Blue dwarf</a></li>,\n",
       " <li><a href=\"/wiki/Black_dwarf\" title=\"Black dwarf\">Black dwarf</a></li>,\n",
       " <li><a href=\"/wiki/Exotic_star\" title=\"Exotic star\">Exotic</a>\n",
       " <ul><li><a class=\"mw-redirect\" href=\"/wiki/Boson_star\" title=\"Boson star\">Boson</a></li>\n",
       " <li><a class=\"mw-redirect\" href=\"/wiki/Electroweak_star\" title=\"Electroweak star\">Electroweak</a></li>\n",
       " <li><a href=\"/wiki/Strange_star\" title=\"Strange star\">Strange</a></li>\n",
       " <li><a class=\"mw-redirect\" href=\"/wiki/Preon_star\" title=\"Preon star\">Preon</a></li>\n",
       " <li><a href=\"/wiki/Planck_star\" title=\"Planck star\">Planck</a></li>\n",
       " <li><a href=\"/wiki/Dark_star_(dark_matter)\" title=\"Dark star (dark matter)\">Dark</a></li>\n",
       " <li><a href=\"/wiki/Dark-energy_star\" title=\"Dark-energy star\">Dark-energy</a></li>\n",
       " <li><a href=\"/wiki/Quark_star\" title=\"Quark star\">Quark</a></li>\n",
       " <li><a href=\"/wiki/Q_star\" title=\"Q star\">Q</a></li></ul></li>,\n",
       " <li><a class=\"mw-redirect\" href=\"/wiki/Boson_star\" title=\"Boson star\">Boson</a></li>,\n",
       " <li><a class=\"mw-redirect\" href=\"/wiki/Electroweak_star\" title=\"Electroweak star\">Electroweak</a></li>,\n",
       " <li><a href=\"/wiki/Strange_star\" title=\"Strange star\">Strange</a></li>,\n",
       " <li><a class=\"mw-redirect\" href=\"/wiki/Preon_star\" title=\"Preon star\">Preon</a></li>,\n",
       " <li><a href=\"/wiki/Planck_star\" title=\"Planck star\">Planck</a></li>,\n",
       " <li><a href=\"/wiki/Dark_star_(dark_matter)\" title=\"Dark star (dark matter)\">Dark</a></li>,\n",
       " <li><a href=\"/wiki/Dark-energy_star\" title=\"Dark-energy star\">Dark-energy</a></li>,\n",
       " <li><a href=\"/wiki/Quark_star\" title=\"Quark star\">Quark</a></li>,\n",
       " <li><a href=\"/wiki/Q_star\" title=\"Q star\">Q</a></li>,\n",
       " <li>Black hole star\n",
       " <ul><li><a href=\"/wiki/Black_star_(semiclassical_gravity)\" title=\"Black star (semiclassical gravity)\">Black</a></li>\n",
       " <li>Hawking</li>\n",
       " <li><a href=\"/wiki/Quasi-star\" title=\"Quasi-star\">Quasi-star</a></li></ul></li>,\n",
       " <li><a href=\"/wiki/Black_star_(semiclassical_gravity)\" title=\"Black star (semiclassical gravity)\">Black</a></li>,\n",
       " <li>Hawking</li>,\n",
       " <li><a href=\"/wiki/Quasi-star\" title=\"Quasi-star\">Quasi-star</a></li>,\n",
       " <li><a href=\"/wiki/Gravastar\" title=\"Gravastar\">Gravastar</a></li>,\n",
       " <li><a href=\"/wiki/Thorne%E2%80%93%C5%BBytkow_object\" title=\"Thorne–Żytkow object\">Thorne–Żytkow object</a></li>,\n",
       " <li><a href=\"/wiki/Iron_star\" title=\"Iron star\">Iron</a></li>,\n",
       " <li><a href=\"/wiki/Blitzar\" title=\"Blitzar\">Blitzar</a></li>,\n",
       " <li><a href=\"/wiki/White_hole\" title=\"White hole\">White hole</a></li>,\n",
       " <li><a href=\"/wiki/Deuterium_fusion\" title=\"Deuterium fusion\">Deuterium burning</a></li>,\n",
       " <li><a href=\"/wiki/Lithium_burning\" title=\"Lithium burning\">Lithium burning</a></li>,\n",
       " <li><a href=\"/wiki/Proton%E2%80%93proton_chain\" title=\"Proton–proton chain\">Proton–proton chain</a></li>,\n",
       " <li><a href=\"/wiki/CNO_cycle\" title=\"CNO cycle\">CNO cycle</a></li>,\n",
       " <li><a href=\"/wiki/Helium_flash\" title=\"Helium flash\">Helium flash</a></li>,\n",
       " <li><a href=\"/wiki/Triple-alpha_process\" title=\"Triple-alpha process\">Triple-alpha process</a></li>,\n",
       " <li><a href=\"/wiki/Alpha_process\" title=\"Alpha process\">Alpha process</a></li>,\n",
       " <li><a href=\"/wiki/Carbon-burning_process\" title=\"Carbon-burning process\">C burning</a></li>,\n",
       " <li><a href=\"/wiki/Neon-burning_process\" title=\"Neon-burning process\">Ne burning</a></li>,\n",
       " <li><a href=\"/wiki/Oxygen-burning_process\" title=\"Oxygen-burning process\">O burning</a></li>,\n",
       " <li><a href=\"/wiki/Silicon-burning_process\" title=\"Silicon-burning process\">Si burning</a></li>,\n",
       " <li><a href=\"/wiki/S-process\" title=\"S-process\">s-process</a></li>,\n",
       " <li><a href=\"/wiki/R-process\" title=\"R-process\">r-process</a></li>,\n",
       " <li><a href=\"/wiki/P-process\" title=\"P-process\">p-process</a></li>,\n",
       " <li><a href=\"/wiki/Nova\" title=\"Nova\">Nova</a>\n",
       " <ul><li><a href=\"/wiki/Symbiotic_nova\" title=\"Symbiotic nova\">Symbiotic</a></li>\n",
       " <li><a href=\"/wiki/Nova_remnant\" title=\"Nova remnant\">Remnant</a></li>\n",
       " <li><a href=\"/wiki/Luminous_red_nova\" title=\"Luminous red nova\">Luminous red nova</a></li>\n",
       " <li><a href=\"/wiki/Nova#Recurrent_novae\" title=\"Nova\">Recurrent</a></li>\n",
       " <li><a href=\"/wiki/Micronova\" title=\"Micronova\">Micronova</a></li></ul></li>,\n",
       " <li><a href=\"/wiki/Symbiotic_nova\" title=\"Symbiotic nova\">Symbiotic</a></li>,\n",
       " <li><a href=\"/wiki/Nova_remnant\" title=\"Nova remnant\">Remnant</a></li>,\n",
       " <li><a href=\"/wiki/Luminous_red_nova\" title=\"Luminous red nova\">Luminous red nova</a></li>,\n",
       " <li><a href=\"/wiki/Nova#Recurrent_novae\" title=\"Nova\">Recurrent</a></li>,\n",
       " <li><a href=\"/wiki/Micronova\" title=\"Micronova\">Micronova</a></li>,\n",
       " <li><a href=\"/wiki/Supernova_nucleosynthesis\" title=\"Supernova nucleosynthesis\">Supernova</a></li>,\n",
       " <li><a href=\"/wiki/Stellar_core\" title=\"Stellar core\">Core</a></li>,\n",
       " <li><a href=\"/wiki/Convection_zone\" title=\"Convection zone\">Convection zone</a>\n",
       " <ul><li><a href=\"/wiki/Microturbulence\" title=\"Microturbulence\">Microturbulence</a></li>\n",
       " <li><a href=\"/wiki/Solar-like_oscillations\" title=\"Solar-like oscillations\">Oscillations</a></li></ul></li>,\n",
       " <li><a href=\"/wiki/Microturbulence\" title=\"Microturbulence\">Microturbulence</a></li>,\n",
       " <li><a href=\"/wiki/Solar-like_oscillations\" title=\"Solar-like oscillations\">Oscillations</a></li>,\n",
       " <li><a class=\"mw-redirect\" href=\"/wiki/Radiation_zone\" title=\"Radiation zone\">Radiation zone</a></li>,\n",
       " <li><a href=\"/wiki/Stellar_atmosphere\" title=\"Stellar atmosphere\">Atmosphere</a>\n",
       " <ul><li><a href=\"/wiki/Photosphere\" title=\"Photosphere\">Photosphere</a></li>\n",
       " <li><a href=\"/wiki/Starspot\" title=\"Starspot\">Starspot</a></li>\n",
       " <li><a href=\"/wiki/Chromosphere\" title=\"Chromosphere\">Chromosphere</a></li>\n",
       " <li><a href=\"/wiki/Stellar_corona\" title=\"Stellar corona\">Stellar corona</a></li>\n",
       " <li><a href=\"/wiki/Alfv%C3%A9n_surface\" title=\"Alfvén surface\">Alfvén surface</a></li></ul></li>,\n",
       " <li><a href=\"/wiki/Photosphere\" title=\"Photosphere\">Photosphere</a></li>,\n",
       " <li><a href=\"/wiki/Starspot\" title=\"Starspot\">Starspot</a></li>,\n",
       " <li><a href=\"/wiki/Chromosphere\" title=\"Chromosphere\">Chromosphere</a></li>,\n",
       " <li><a href=\"/wiki/Stellar_corona\" title=\"Stellar corona\">Stellar corona</a></li>,\n",
       " <li><a href=\"/wiki/Alfv%C3%A9n_surface\" title=\"Alfvén surface\">Alfvén surface</a></li>,\n",
       " <li><a href=\"/wiki/Stellar_wind\" title=\"Stellar wind\">Stellar wind</a>\n",
       " <ul><li><a href=\"/wiki/Stellar-wind_bubble\" title=\"Stellar-wind bubble\">Bubble</a></li>\n",
       " <li><a href=\"/wiki/Bipolar_outflow\" title=\"Bipolar outflow\">Bipolar outflow</a></li></ul></li>,\n",
       " <li><a href=\"/wiki/Stellar-wind_bubble\" title=\"Stellar-wind bubble\">Bubble</a></li>,\n",
       " <li><a href=\"/wiki/Bipolar_outflow\" title=\"Bipolar outflow\">Bipolar outflow</a></li>,\n",
       " <li><a href=\"/wiki/Accretion_disk\" title=\"Accretion disk\">Accretion disk</a>\n",
       " <ul><li><a href=\"/wiki/Protoplanetary_disk\" title=\"Protoplanetary disk\">Protoplanetary disk</a></li>\n",
       " <li><a href=\"/wiki/Proplyd\" title=\"Proplyd\">Proplyd</a></li></ul></li>,\n",
       " <li><a href=\"/wiki/Protoplanetary_disk\" title=\"Protoplanetary disk\">Protoplanetary disk</a></li>,\n",
       " <li><a href=\"/wiki/Proplyd\" title=\"Proplyd\">Proplyd</a></li>,\n",
       " <li><a href=\"/wiki/Asteroseismology\" title=\"Asteroseismology\">Asteroseismology</a>\n",
       " <ul><li><a href=\"/wiki/Helioseismology\" title=\"Helioseismology\">Helioseismology</a></li></ul></li>,\n",
       " <li><a href=\"/wiki/Helioseismology\" title=\"Helioseismology\">Helioseismology</a></li>,\n",
       " <li><a href=\"/wiki/Circumstellar_dust\" title=\"Circumstellar dust\">Circumstellar dust</a></li>,\n",
       " <li><a href=\"/wiki/Cosmic_dust\" title=\"Cosmic dust\">Cosmic dust</a></li>,\n",
       " <li><a href=\"/wiki/Circumstellar_envelope\" title=\"Circumstellar envelope\">Circumstellar envelope</a></li>,\n",
       " <li><a href=\"/wiki/Eddington_luminosity\" title=\"Eddington luminosity\">Eddington luminosity</a></li>,\n",
       " <li><a href=\"/wiki/Kelvin%E2%80%93Helmholtz_mechanism\" title=\"Kelvin–Helmholtz mechanism\">Kelvin–Helmholtz mechanism</a></li>,\n",
       " <li><a href=\"/wiki/Stellar_designations_and_names\" title=\"Stellar designations and names\">Designation</a></li>,\n",
       " <li><a href=\"/wiki/Stellar_dynamics\" title=\"Stellar dynamics\">Dynamics</a></li>,\n",
       " <li><a href=\"/wiki/Effective_temperature\" title=\"Effective temperature\">Effective temperature</a></li>,\n",
       " <li><a href=\"/wiki/Luminosity\" title=\"Luminosity\">Luminosity</a></li>,\n",
       " <li><a href=\"/wiki/Stellar_kinematics\" title=\"Stellar kinematics\">Kinematics</a></li>,\n",
       " <li><a href=\"/wiki/Stellar_magnetic_field\" title=\"Stellar magnetic field\">Magnetic field</a></li>,\n",
       " <li><a href=\"/wiki/Absolute_magnitude\" title=\"Absolute magnitude\">Absolute magnitude</a></li>,\n",
       " <li><a href=\"/wiki/Stellar_mass\" title=\"Stellar mass\">Mass</a></li>,\n",
       " <li><a href=\"/wiki/Metallicity\" title=\"Metallicity\">Metallicity</a></li>,\n",
       " <li><a href=\"/wiki/Stellar_rotation\" title=\"Stellar rotation\">Rotation</a>\n",
       " <ul><li><a href=\"/wiki/Gravity_darkening\" title=\"Gravity darkening\">Gravity darkening</a></li></ul></li>,\n",
       " <li><a href=\"/wiki/Gravity_darkening\" title=\"Gravity darkening\">Gravity darkening</a></li>,\n",
       " <li><a href=\"/wiki/Starlight\" title=\"Starlight\">Starlight</a></li>,\n",
       " <li><a href=\"/wiki/Variable_star\" title=\"Variable star\">Variable</a></li>,\n",
       " <li><a href=\"/wiki/Photometric_system\" title=\"Photometric system\">Photometric system</a></li>,\n",
       " <li><a href=\"/wiki/Color_index\" title=\"Color index\">Color index</a></li>,\n",
       " <li><a href=\"/wiki/Hertzsprung%E2%80%93Russell_diagram\" title=\"Hertzsprung–Russell diagram\">Hertzsprung–Russell diagram</a></li>,\n",
       " <li><a href=\"/wiki/Color%E2%80%93color_diagram\" title=\"Color–color diagram\">Color–color diagram</a></li>,\n",
       " <li><a href=\"/wiki/Str%C3%B6mgren_sphere\" title=\"Strömgren sphere\">Strömgren sphere</a></li>,\n",
       " <li><a href=\"/wiki/Kraft_break\" title=\"Kraft break\">Kraft break</a></li>,\n",
       " <li><a href=\"/wiki/Binary_star\" title=\"Binary star\">Binary</a>\n",
       " <ul><li><a href=\"/wiki/Contact_binary\" title=\"Contact binary\">Contact</a></li>\n",
       " <li><a href=\"/wiki/Common_envelope\" title=\"Common envelope\">Common envelope</a></li>\n",
       " <li><a class=\"mw-redirect\" href=\"/wiki/Eclipsing_binary\" title=\"Eclipsing binary\">Eclipsing</a></li>\n",
       " <li><a href=\"/wiki/Symbiotic_binary\" title=\"Symbiotic binary\">Symbiotic</a></li></ul></li>,\n",
       " <li><a href=\"/wiki/Contact_binary\" title=\"Contact binary\">Contact</a></li>,\n",
       " <li><a href=\"/wiki/Common_envelope\" title=\"Common envelope\">Common envelope</a></li>,\n",
       " <li><a class=\"mw-redirect\" href=\"/wiki/Eclipsing_binary\" title=\"Eclipsing binary\">Eclipsing</a></li>,\n",
       " <li><a href=\"/wiki/Symbiotic_binary\" title=\"Symbiotic binary\">Symbiotic</a></li>,\n",
       " <li><a href=\"/wiki/Star_system#Multiple_star_systems\" title=\"Star system\">Multiple</a></li>,\n",
       " <li><a href=\"/wiki/Star_cluster\" title=\"Star cluster\">Cluster</a>\n",
       " <ul><li><a href=\"/wiki/Open_cluster\" title=\"Open cluster\">Open</a></li>\n",
       " <li><a href=\"/wiki/Globular_cluster\" title=\"Globular cluster\">Globular</a></li>\n",
       " <li><a href=\"/wiki/Super_star_cluster\" title=\"Super star cluster\">Super</a></li></ul></li>,\n",
       " <li><a href=\"/wiki/Open_cluster\" title=\"Open cluster\">Open</a></li>,\n",
       " <li><a href=\"/wiki/Globular_cluster\" title=\"Globular cluster\">Globular</a></li>,\n",
       " <li><a href=\"/wiki/Super_star_cluster\" title=\"Super star cluster\">Super</a></li>,\n",
       " <li><a href=\"/wiki/Planetary_system\" title=\"Planetary system\">Planetary system</a></li>,\n",
       " <li><a href=\"/wiki/Sun\" title=\"Sun\">Sun</a>\n",
       " <ul><li><a href=\"/wiki/Solar_eclipse\" title=\"Solar eclipse\">Solar eclipse</a></li>\n",
       " <li><a href=\"/wiki/Solar_radio_emission\" title=\"Solar radio emission\">Solar radio emission</a></li>\n",
       " <li><a href=\"/wiki/Solar_System\" title=\"Solar System\">Solar System</a></li>\n",
       " <li><a href=\"/wiki/Sunlight\" title=\"Sunlight\">Sunlight</a></li></ul></li>,\n",
       " <li><a href=\"/wiki/Solar_eclipse\" title=\"Solar eclipse\">Solar eclipse</a></li>,\n",
       " <li><a href=\"/wiki/Solar_radio_emission\" title=\"Solar radio emission\">Solar radio emission</a></li>,\n",
       " <li><a href=\"/wiki/Solar_System\" title=\"Solar System\">Solar System</a></li>,\n",
       " <li><a href=\"/wiki/Sunlight\" title=\"Sunlight\">Sunlight</a></li>,\n",
       " <li><a href=\"/wiki/Pole_star\" title=\"Pole star\">Pole star</a></li>,\n",
       " <li><a href=\"/wiki/Circumpolar_star\" title=\"Circumpolar star\">Circumpolar</a></li>,\n",
       " <li><a href=\"/wiki/Constellation\" title=\"Constellation\">Constellation</a></li>,\n",
       " <li><a href=\"/wiki/Asterism_(astronomy)\" title=\"Asterism (astronomy)\">Asterism</a></li>,\n",
       " <li><a href=\"/wiki/Magnitude_(astronomy)\" title=\"Magnitude (astronomy)\">Magnitude</a>\n",
       " <ul><li><a href=\"/wiki/Apparent_magnitude\" title=\"Apparent magnitude\">Apparent</a></li>\n",
       " <li><a href=\"/wiki/Extinction_(astronomy)\" title=\"Extinction (astronomy)\">Extinction</a></li>\n",
       " <li><a href=\"/wiki/Photographic_magnitude\" title=\"Photographic magnitude\">Photographic</a></li></ul></li>,\n",
       " <li><a href=\"/wiki/Apparent_magnitude\" title=\"Apparent magnitude\">Apparent</a></li>,\n",
       " <li><a href=\"/wiki/Extinction_(astronomy)\" title=\"Extinction (astronomy)\">Extinction</a></li>,\n",
       " <li><a href=\"/wiki/Photographic_magnitude\" title=\"Photographic magnitude\">Photographic</a></li>,\n",
       " <li><a href=\"/wiki/Radial_velocity\" title=\"Radial velocity\">Radial velocity</a></li>,\n",
       " <li><a href=\"/wiki/Proper_motion\" title=\"Proper motion\">Proper motion</a></li>,\n",
       " <li><a href=\"/wiki/Stellar_parallax\" title=\"Stellar parallax\">Parallax</a></li>,\n",
       " <li><a href=\"/wiki/Photometric-standard_star\" title=\"Photometric-standard star\">Photometric-standard</a></li>,\n",
       " <li><a href=\"/wiki/List_of_proper_names_of_stars\" title=\"List of proper names of stars\">Proper names</a>\n",
       " <ul><li><a href=\"/wiki/List_of_Arabic_star_names\" title=\"List of Arabic star names\">Arabic</a></li>\n",
       " <li><a class=\"mw-redirect\" href=\"/wiki/Chinese_star_names\" title=\"Chinese star names\">Chinese</a></li></ul></li>,\n",
       " <li><a href=\"/wiki/List_of_Arabic_star_names\" title=\"List of Arabic star names\">Arabic</a></li>,\n",
       " <li><a class=\"mw-redirect\" href=\"/wiki/Chinese_star_names\" title=\"Chinese star names\">Chinese</a></li>,\n",
       " <li><a href=\"/wiki/List_of_star_extremes\" title=\"List of star extremes\">Extremes</a>\n",
       " <ul><li><a href=\"/wiki/List_of_most_massive_stars\" title=\"List of most massive stars\">Most massive</a></li>\n",
       " <li><a href=\"/wiki/List_of_hottest_stars\" title=\"List of hottest stars\">Highest temperature</a></li>\n",
       " <li><a href=\"/wiki/List_of_coolest_stars\" title=\"List of coolest stars\">Lowest temperature</a></li>\n",
       " <li><a href=\"/wiki/List_of_largest_stars\" title=\"List of largest stars\">Largest volume</a></li>\n",
       " <li><a href=\"/wiki/List_of_smallest_known_stars\" title=\"List of smallest known stars\">Smallest volume</a></li>\n",
       " <li><a href=\"/wiki/List_of_brightest_stars\" title=\"List of brightest stars\">Brightest</a></li>\n",
       " <li><a href=\"/wiki/Historical_brightest_stars\" title=\"Historical brightest stars\">Historical brightest</a></li>\n",
       " <li><a href=\"/wiki/List_of_most_luminous_stars\" title=\"List of most luminous stars\">Most luminous</a></li>\n",
       " <li><a href=\"/wiki/List_of_nearest_stars\" title=\"List of nearest stars\">Nearest</a>\n",
       " <ul><li><a href=\"/wiki/List_of_nearest_bright_stars\" title=\"List of nearest bright stars\">bright</a></li></ul></li></ul></li>,\n",
       " <li><a href=\"/wiki/List_of_most_massive_stars\" title=\"List of most massive stars\">Most massive</a></li>,\n",
       " <li><a href=\"/wiki/List_of_hottest_stars\" title=\"List of hottest stars\">Highest temperature</a></li>,\n",
       " <li><a href=\"/wiki/List_of_coolest_stars\" title=\"List of coolest stars\">Lowest temperature</a></li>,\n",
       " <li><a href=\"/wiki/List_of_largest_stars\" title=\"List of largest stars\">Largest volume</a></li>,\n",
       " <li><a href=\"/wiki/List_of_smallest_known_stars\" title=\"List of smallest known stars\">Smallest volume</a></li>,\n",
       " <li><a href=\"/wiki/List_of_brightest_stars\" title=\"List of brightest stars\">Brightest</a></li>,\n",
       " <li><a href=\"/wiki/Historical_brightest_stars\" title=\"Historical brightest stars\">Historical brightest</a></li>,\n",
       " <li><a href=\"/wiki/List_of_most_luminous_stars\" title=\"List of most luminous stars\">Most luminous</a></li>,\n",
       " <li><a href=\"/wiki/List_of_nearest_stars\" title=\"List of nearest stars\">Nearest</a>\n",
       " <ul><li><a href=\"/wiki/List_of_nearest_bright_stars\" title=\"List of nearest bright stars\">bright</a></li></ul></li>,\n",
       " <li><a href=\"/wiki/List_of_nearest_bright_stars\" title=\"List of nearest bright stars\">bright</a></li>,\n",
       " <li><a href=\"/wiki/List_of_most_distant_stars\" title=\"List of most distant stars\">Most distant</a></li>,\n",
       " <li><a href=\"/wiki/List_of_stars_with_resolved_images\" title=\"List of stars with resolved images\">With resolved images</a></li>,\n",
       " <li><a href=\"/wiki/List_of_multiplanetary_systems\" title=\"List of multiplanetary systems\">With multiple exoplanets</a></li>,\n",
       " <li><a href=\"/wiki/List_of_brown_dwarfs\" title=\"List of brown dwarfs\">Brown dwarfs</a></li>,\n",
       " <li><a href=\"/wiki/List_of_red_dwarfs\" title=\"List of red dwarfs\">Red dwarfs</a></li>,\n",
       " <li><a href=\"/wiki/List_of_white_dwarfs\" title=\"List of white dwarfs\">White dwarfs</a></li>,\n",
       " <li><a href=\"/wiki/List_of_novae_in_the_Milky_Way_galaxy\" title=\"List of novae in the Milky Way galaxy\">Milky Way novae</a></li>,\n",
       " <li><a href=\"/wiki/List_of_supernovae\" title=\"List of supernovae\">Supernovae</a>\n",
       " <ul><li><a href=\"/wiki/List_of_supernova_candidates\" title=\"List of supernova candidates\">Candidates</a></li>\n",
       " <li><a href=\"/wiki/List_of_supernova_remnants\" title=\"List of supernova remnants\">Remnants</a></li></ul></li>,\n",
       " <li><a href=\"/wiki/List_of_supernova_candidates\" title=\"List of supernova candidates\">Candidates</a></li>,\n",
       " <li><a href=\"/wiki/List_of_supernova_remnants\" title=\"List of supernova remnants\">Remnants</a></li>,\n",
       " <li><a href=\"/wiki/List_of_planetary_nebulae\" title=\"List of planetary nebulae\">Planetary nebulae</a></li>,\n",
       " <li><a href=\"/wiki/Timeline_of_stellar_astronomy\" title=\"Timeline of stellar astronomy\">Timeline of stellar astronomy</a></li>,\n",
       " <li><a href=\"/wiki/Substellar_object\" title=\"Substellar object\">Substellar object</a>\n",
       " <ul><li><a href=\"/wiki/Brown_dwarf\" title=\"Brown dwarf\">Brown dwarf</a>\n",
       " <ul><li><a href=\"/wiki/Brown-dwarf_desert\" title=\"Brown-dwarf desert\">Desert</a></li>\n",
       " <li><a href=\"/wiki/Sub-brown_dwarf\" title=\"Sub-brown dwarf\">Sub</a></li></ul></li>\n",
       " <li><a href=\"/wiki/Planet\" title=\"Planet\">Planet</a></li></ul></li>,\n",
       " <li><a href=\"/wiki/Brown_dwarf\" title=\"Brown dwarf\">Brown dwarf</a>\n",
       " <ul><li><a href=\"/wiki/Brown-dwarf_desert\" title=\"Brown-dwarf desert\">Desert</a></li>\n",
       " <li><a href=\"/wiki/Sub-brown_dwarf\" title=\"Sub-brown dwarf\">Sub</a></li></ul></li>,\n",
       " <li><a href=\"/wiki/Brown-dwarf_desert\" title=\"Brown-dwarf desert\">Desert</a></li>,\n",
       " <li><a href=\"/wiki/Sub-brown_dwarf\" title=\"Sub-brown dwarf\">Sub</a></li>,\n",
       " <li><a href=\"/wiki/Planet\" title=\"Planet\">Planet</a></li>,\n",
       " <li><a href=\"/wiki/Galactic_year\" title=\"Galactic year\">Galactic year</a></li>,\n",
       " <li><a href=\"/wiki/Galaxy\" title=\"Galaxy\">Galaxy</a></li>,\n",
       " <li><a href=\"/wiki/Guest_star_(astronomy)\" title=\"Guest star (astronomy)\">Guest</a></li>,\n",
       " <li><a href=\"/wiki/Gravity\" title=\"Gravity\">Gravity</a></li>,\n",
       " <li><a href=\"/wiki/Intergalactic_star\" title=\"Intergalactic star\">Intergalactic</a></li>,\n",
       " <li><a href=\"/wiki/Neutron_star_merger\" title=\"Neutron star merger\">Neutron star merger</a></li>,\n",
       " <li><a class=\"mw-redirect\" href=\"/wiki/Planet-hosting_stars\" title=\"Planet-hosting stars\">Planet-hosting stars</a></li>,\n",
       " <li><a href=\"/wiki/Stellar_collision\" title=\"Stellar collision\">Stellar collision</a></li>,\n",
       " <li><a href=\"/wiki/Stellar_engulfment\" title=\"Stellar engulfment\">Stellar engulfment</a></li>,\n",
       " <li><a href=\"/wiki/Tidal_disruption_event\" title=\"Tidal disruption event\">Tidal disruption event</a></li>,\n",
       " <li><span class=\"noviewer\" typeof=\"mw:File\"><span title=\"Category\"><img alt=\"\" class=\"mw-file-element\" data-file-height=\"185\" data-file-width=\"180\" decoding=\"async\" height=\"16\" src=\"//upload.wikimedia.org/wikipedia/en/thumb/9/96/Symbol_category_class.svg/20px-Symbol_category_class.svg.png\" srcset=\"//upload.wikimedia.org/wikipedia/en/thumb/9/96/Symbol_category_class.svg/40px-Symbol_category_class.svg.png 1.5x\" width=\"16\"/></span></span> <a href=\"/wiki/Category:Stars\" title=\"Category:Stars\">Category</a></li>,\n",
       " <li><span class=\"nowrap\"><span class=\"noviewer\" typeof=\"mw:File\"><a class=\"mw-file-description\" href=\"/wiki/File:He1523a.jpg\"><img alt=\"icon\" class=\"mw-file-element\" data-file-height=\"207\" data-file-width=\"180\" decoding=\"async\" height=\"15\" src=\"//upload.wikimedia.org/wikipedia/commons/thumb/5/5f/He1523a.jpg/20px-He1523a.jpg\" srcset=\"//upload.wikimedia.org/wikipedia/commons/thumb/5/5f/He1523a.jpg/40px-He1523a.jpg 2x\" width=\"13\"/></a></span> </span><a href=\"/wiki/Portal:Stars\" title=\"Portal:Stars\">Stars portal</a></li>,\n",
       " <li><a href=\"/wiki/Category:Lists_of_astronomy_lists\" title=\"Category:Lists of astronomy lists\">Lists of astronomy lists</a></li>,\n",
       " <li><a href=\"/wiki/Category:Lists_of_stars_by_constellation\" title=\"Category:Lists of stars by constellation\">Lists of stars by constellation</a></li>,\n",
       " <li><a href=\"/wiki/Category:Lists_of_stars\" title=\"Category:Lists of stars\">Lists of stars</a></li>,\n",
       " <li><a href=\"/wiki/Category:Constellations\" title=\"Category:Constellations\">Constellations</a></li>,\n",
       " <li><a href=\"/wiki/Category:Lists_of_constellations\" title=\"Category:Lists of constellations\">Lists of constellations</a></li>,\n",
       " <li><a href=\"/wiki/Category:Articles_with_short_description\" title=\"Category:Articles with short description\">Articles with short description</a></li>,\n",
       " <li><a href=\"/wiki/Category:Short_description_is_different_from_Wikidata\" title=\"Category:Short description is different from Wikidata\">Short description is different from Wikidata</a></li>,\n",
       " <li id=\"footer-info-lastmod\"> This page was last edited on 31 July 2025, at 13:08<span class=\"anonymous-show\"> (UTC)</span>.</li>,\n",
       " <li id=\"footer-info-copyright\">Text is available under the <a href=\"/wiki/Wikipedia:Text_of_the_Creative_Commons_Attribution-ShareAlike_4.0_International_License\" title=\"Wikipedia:Text of the Creative Commons Attribution-ShareAlike 4.0 International License\">Creative Commons Attribution-ShareAlike 4.0 License</a>;\n",
       " additional terms may apply. By using this site, you agree to the <a class=\"extiw\" href=\"https://foundation.wikimedia.org/wiki/Special:MyLanguage/Policy:Terms_of_Use\" title=\"foundation:Special:MyLanguage/Policy:Terms of Use\">Terms of Use</a> and <a class=\"extiw\" href=\"https://foundation.wikimedia.org/wiki/Special:MyLanguage/Policy:Privacy_policy\" title=\"foundation:Special:MyLanguage/Policy:Privacy policy\">Privacy Policy</a>. Wikipedia® is a registered trademark of the <a class=\"external text\" href=\"https://wikimediafoundation.org/\" rel=\"nofollow\">Wikimedia Foundation, Inc.</a>, a non-profit organization.</li>,\n",
       " <li id=\"footer-places-privacy\"><a href=\"https://foundation.wikimedia.org/wiki/Special:MyLanguage/Policy:Privacy_policy\">Privacy policy</a></li>,\n",
       " <li id=\"footer-places-about\"><a href=\"/wiki/Wikipedia:About\">About Wikipedia</a></li>,\n",
       " <li id=\"footer-places-disclaimers\"><a href=\"/wiki/Wikipedia:General_disclaimer\">Disclaimers</a></li>,\n",
       " <li id=\"footer-places-contact\"><a href=\"//en.wikipedia.org/wiki/Wikipedia:Contact_us\">Contact Wikipedia</a></li>,\n",
       " <li id=\"footer-places-wm-codeofconduct\"><a href=\"https://foundation.wikimedia.org/wiki/Special:MyLanguage/Policy:Universal_Code_of_Conduct\">Code of Conduct</a></li>,\n",
       " <li id=\"footer-places-developers\"><a href=\"https://developer.wikimedia.org\">Developers</a></li>,\n",
       " <li id=\"footer-places-statslink\"><a href=\"https://stats.wikimedia.org/#/en.wikipedia.org\">Statistics</a></li>,\n",
       " <li id=\"footer-places-cookiestatement\"><a href=\"https://foundation.wikimedia.org/wiki/Special:MyLanguage/Policy:Cookie_statement\">Cookie statement</a></li>,\n",
       " <li id=\"footer-places-mobileview\"><a class=\"noprint stopMobileRedirectToggle\" href=\"//en.m.wikipedia.org/w/index.php?title=Lists_of_stars_by_constellation&amp;mobileaction=toggle_view_mobile\">Mobile view</a></li>,\n",
       " <li id=\"footer-copyrightico\"><a class=\"cdx-button cdx-button--fake-button cdx-button--size-large cdx-button--fake-button--enabled\" href=\"https://www.wikimedia.org/\"><picture><source height=\"29\" media=\"(min-width: 500px)\" srcset=\"/static/images/footer/wikimedia-button.svg\" width=\"84\"/><img alt=\"Wikimedia Foundation\" height=\"25\" lang=\"en\" loading=\"lazy\" src=\"/static/images/footer/wikimedia.svg\" width=\"25\"/></picture></a></li>,\n",
       " <li id=\"footer-poweredbyico\"><a class=\"cdx-button cdx-button--fake-button cdx-button--size-large cdx-button--fake-button--enabled\" href=\"https://www.mediawiki.org/\"><picture><source height=\"31\" media=\"(min-width: 500px)\" srcset=\"/w/resources/assets/poweredby_mediawiki.svg\" width=\"88\"/><img alt=\"Powered by MediaWiki\" height=\"25\" lang=\"en\" loading=\"lazy\" src=\"/w/resources/assets/mediawiki_compact.svg\" width=\"25\"/></picture></a></li>]"
      ]
     },
     "execution_count": 26,
     "metadata": {},
     "output_type": "execute_result"
    }
   ],
   "source": [
    "a"
   ]
  },
  {
   "cell_type": "code",
   "execution_count": 27,
   "metadata": {},
   "outputs": [
    {
     "data": {
      "text/plain": [
       "638"
      ]
     },
     "execution_count": 27,
     "metadata": {},
     "output_type": "execute_result"
    }
   ],
   "source": [
    "len(a)"
   ]
  },
  {
   "cell_type": "markdown",
   "metadata": {},
   "source": [
    "You can see that the list of constellations that we want starts from the 6th element in the above list and there are 88 constellations in total. Let us try printing it out."
   ]
  },
  {
   "cell_type": "code",
   "execution_count": 28,
   "metadata": {},
   "outputs": [
    {
     "name": "stdout",
     "output_type": "stream",
     "text": [
      "Contact us\n",
      "Help\n",
      "['Contact us', 'Help', 'Learn to edit', 'Community portal', 'Recent changes', 'Upload file', 'Special pages', 'Donate\\n', 'Create account\\n', 'Log in\\n', 'Donate', ' Create account', ' Log in', 'Contributions', 'Talk', '\\n\\n(Top)\\n\\n', '\\n\\n\\n1\\nLists of stars by constellation\\n\\n\\n\\n\\n', '\\n\\n\\n2\\nCriteria of inclusion\\n\\n\\n\\n\\n', '\\n\\n\\n3\\nSee also\\n\\n\\n\\n\\n', '\\n\\n\\n4\\nReferences\\n\\n\\n\\n\\n', '\\n\\n\\n5\\nExternal links\\n\\n\\n\\n\\n', 'Беларуская', 'Català', 'Čeština', 'Ελληνικά', 'Euskara', 'فارسی', 'Français', '한국어', 'Igbo', 'Bahasa Indonesia', 'Jawa', 'Қазақша', 'Македонски', 'Bahasa Melayu', '日本語', 'Oromoo', 'Polski', 'Português', 'Slovenčina', 'Türkçe', 'Українська', '中文', 'Article', 'Talk', 'Read', 'Edit', 'View history', 'Read', 'Edit', 'View history', 'What links here', 'Related changes', 'Upload file', 'Permanent link', 'Page information', 'Cite this page', 'Get shortened URL', 'Download QR code', 'Download as PDF', 'Printable version', 'Wikidata item', 'Andromeda', 'Antlia', 'Apus', 'Aquarius', 'Aquila', 'Ara', 'Aries', 'Auriga', 'Boötes', 'Caelum', 'Camelopardalis', 'Cancer', 'Canes Venatici', 'Canis Major', 'Canis Minor', 'Capricornus', 'Carina', 'Cassiopeia', 'Centaurus', 'Cepheus', 'Cetus', 'Chamaeleon', 'Circinus', 'Columba', 'Coma Berenices', 'Corona Australis']\n"
     ]
    }
   ],
   "source": [
    "print(soup.find_all('li')[5].get_text())\n",
    "print(soup.find_all('li')[6].get_text())\n",
    "constellations=[]\n",
    "for element in soup.find_all('li')[5:93]:    #How 93?\n",
    "    constellations.append(element.get_text())\n",
    "    \n",
    "print(constellations)"
   ]
  },
  {
   "cell_type": "markdown",
   "metadata": {},
   "source": [
    "## One final lesson in web scraping\n",
    "Not all website owners would appreciate a random person parsing through their website and collecting data. There are serious ethical concerns related to web scraping and you should always make sure before doing it that the owner is okay with this. In this tutorial, we have used only Wikipedia pages where web scraping is always allowed :)"
   ]
  },
  {
   "cell_type": "markdown",
   "metadata": {},
   "source": [
    "If you have understood so far, you are good to go! You must have realized how annoying it is to open the website, see how it is formatted, check if there are any errors, find the tag which contains your data etc. So for today's assignment, you will be given the code to parse the data and format it. The corresponding functions will be explained and you can use them directly in your code. <br>\n",
    "## Your assignment...\n",
    "...should you choose to accept it will be the following:\n",
    "1. Parse [this](https://en.wikipedia.org/wiki/Lists_of_stars_by_constellation) webpage for the RA and Dec of stars of each constellation, convert these coordinates to Cartesian coordinates and store them by constellation and plot them using matplotlib.\n",
    "2. Try to recreate the 'Moons_and_planets.csv' file(used in the first tutorial) from [this](https://en.wikipedia.org/wiki/List_of_natural_satellites) webpage. You can take inspiration from how tables are scraped in the get_map() function for Task 1. Do remember to remove commas and uncertainties in the radius measurement.\n",
    "\n",
    "You can use the following code in Task 1. The data in https://en.wikipedia.org/wiki/Lists_of_stars_by_constellation is not well-formatted and these functions will help in that.\n",
    "**The useful data to be extracted in Task 1 and Task 2 are stored in a HTML table under the class 'wikitable sortable' and you can directly search by class for both tasks.**"
   ]
  },
  {
   "cell_type": "code",
   "execution_count": 1,
   "metadata": {},
   "outputs": [],
   "source": [
    "import requests\n",
    "import numpy as np\n",
    "from bs4 import BeautifulSoup\n",
    "import matplotlib.pyplot as plt"
   ]
  },
  {
   "cell_type": "code",
   "execution_count": 2,
   "metadata": {},
   "outputs": [],
   "source": [
    "def get_coords(ra_s, dec_s):\n",
    "    h_ind = ra_s.find('h')\n",
    "    m_ind = ra_s.find('m')\n",
    "    s_ind = ra_s.find('s')    \n",
    "    h = float(ra_s[:h_ind])\n",
    "    m = float(ra_s[(h_ind+1):m_ind])\n",
    "    s = float(ra_s[(m_ind+1):s_ind])\n",
    "    ra = h + m/60 + s/3600\n",
    "    if dec_s[0] == '+':\n",
    "        sign = 1\n",
    "    else:\n",
    "        sign = -1\n",
    "    d_ind = dec_s.find('°')\n",
    "    m_ind = dec_s.find('′')\n",
    "    s_ind = dec_s.find('″')\n",
    "    d = float(dec_s[1:d_ind])\n",
    "    m = float(dec_s[(d_ind+1):m_ind])\n",
    "    s = float(dec_s[(m_ind+1):s_ind])\n",
    "    dec = sign*(d + m/60 + s/3600)\n",
    "    return ra, dec"
   ]
  },
  {
   "cell_type": "markdown",
   "metadata": {},
   "source": [
    "The get_coords() function is used to format the RA and Dec information of each star. Right Ascension is similar to longitude and is measured in hours, minutes, seconds while Declination is similar to latitude and is measured in degrees, minutes, seconds. The code parses data from the website as a string. This function converts the string to float and then returns the RA as hours and Declination as degrees."
   ]
  },
  {
   "cell_type": "code",
   "execution_count": 3,
   "metadata": {},
   "outputs": [],
   "source": [
    "def get_map(constellation):\n",
    "    url = f'https://en.wikipedia.org/wiki/List_of_stars_in_{constellation}' #page gets downloaded according to constellation\n",
    "    r = requests.get(url)\n",
    "\n",
    "    soup = BeautifulSoup(r.content, 'lxml')  #Here, the lxml parser is used instead of HTML parser\n",
    "\n",
    "    tab = soup.find_all('table', attrs={'class':'wikitable sortable'})[0]   #To extract information from a wikipedia table\n",
    "                               \n",
    "    data = [[]]\n",
    "    for i in tab.find_all('tr'):   #searching in each row of the table ( 'tr' tag stands for row)\n",
    "        row = []                    #declaring empty row\n",
    "        for j in i.find_all('td'):  #'td' tag stands for a cell\n",
    "            row.append(j.get_text())   #add the text contents of each row to the list\n",
    "        data.append(row)\n",
    "\n",
    "    heads = []\n",
    "    for i in tab.find_all('tr')[:1]:\n",
    "        for j in i.find_all('th'):             #'th' tag stands for header cell\n",
    "            heads.append(j.get_text().strip('\\n'))\n",
    "\n",
    "    name_ind = heads.index('Name')\n",
    "    ra_ind = heads.index('RA')\n",
    "    dec_ind = heads.index('Dec')\n",
    "                                  \n",
    "    mag_ind = heads.index('vis.mag.')\n",
    "    \n",
    "    name = []\n",
    "    ra = []\n",
    "    dec = []\n",
    "    mag = []\n",
    "    for i in data[2:-2]:\n",
    "        name_string = i[name_ind]\n",
    "        try:                                             #The code first tries to run the code inside try\n",
    "            ra_string = i[ra_ind].replace('\\xa0', '')\n",
    "            dec_string = i[dec_ind].replace('\\xa0', '')   #These are code used to format the data\n",
    "            mag_string = i[mag_ind]                       \n",
    "            if mag_string[0]=='−':\n",
    "                mag_string = '-'+mag_string[1:]\n",
    "        except:                                       #If any error gets thrown up, it will execute the code inside except\n",
    "            continue\n",
    "        try:\n",
    "            ra_i, dec_i = get_coords(ra_string, dec_string)     #convert ra dec from string to float\n",
    "        except:\n",
    "            continue\n",
    "        try:\n",
    "            mag.append(float(mag_string))\n",
    "            name.append(name_string)\n",
    "            ra.append(ra_i)\n",
    "            dec.append(dec_i)\n",
    "        except:\n",
    "            continue\n",
    "\n",
    "    name = np.array(name)\n",
    "    ra = np.array(ra)\n",
    "    dec = np.array(dec)\n",
    "    mag = np.array(mag)\n",
    "    return name, ra, dec, mag"
   ]
  },
  {
   "cell_type": "markdown",
   "metadata": {},
   "source": [
    "The function get_map() returns a numpy array of name of the stars in that particular constellation, the formatted RA, Dec coordinates for each star in hours and degrees respectively and the [apparent magnitudes](https://en.wikipedia.org/wiki/Apparent_magnitude). You might have noticed the use of `try` and `except` in the above code. These commands are used to handle errors while executing. The interpreter will first try to execute the code inside `try`. If an error gets thrown up during that execution(for instance, incorrect formatting), the code inside `except` will get executed. This makes sure that any star with any formatting errors in its data will be skipped. A more accurate function which does not skip such stars will be given in the solutions of this tutorial for anyone who wants a better method.<br>\n",
    "The lxml parser has been used in the above function. Different parsers give different results and you should always use the parser that works for you. lxml is one of the fastest parsers available.<br>\n",
    "\n",
    "For the next step, you will need to write a function that takes in the celestial coordinates(RA, Dec) and returns its projections into a Cartesian space. This is called a **[Stereographic projection](https://en.wikipedia.org/wiki/Stereographic_projection)**, where points on a sphere are projected on to a plane. A hint to approach this would be to first convert RA, Dec to spherical coordinates on a unit sphere and then apply stereographic projection formulae. <br>\n",
    "\n",
    "To plot the final figure, write a function plot() that takes in a constellation name and plots it. The size of the star must be proportional to its brightness or flux. In tutorial 2, there was a discussion on Magnitudes in Astronomy and its relation to flux, which might prove useful here. Do normalize the size values before using them. If the points come out too small, you can scale the size appropriately."
   ]
  },
  {
   "cell_type": "code",
   "execution_count": null,
   "metadata": {},
   "outputs": [],
   "source": [
    "page = requests.get('')"
   ]
  }
 ],
 "metadata": {
  "kernelspec": {
   "display_name": "Python 3 (ipykernel)",
   "language": "python",
   "name": "python3"
  },
  "language_info": {
   "codemirror_mode": {
    "name": "ipython",
    "version": 3
   },
   "file_extension": ".py",
   "mimetype": "text/x-python",
   "name": "python",
   "nbconvert_exporter": "python",
   "pygments_lexer": "ipython3",
   "version": "3.11.7"
  }
 },
 "nbformat": 4,
 "nbformat_minor": 4
}
